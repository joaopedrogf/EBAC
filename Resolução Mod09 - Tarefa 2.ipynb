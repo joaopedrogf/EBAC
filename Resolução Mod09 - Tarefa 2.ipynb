{
 "cells": [
  {
   "cell_type": "markdown",
   "metadata": {},
   "source": [
    "# Livro para consulta:\n",
    "- https://jakevdp.github.io/PythonDataScienceHandbook/03.08-aggregation-and-grouping.html\n",
    "- https://jakevdp.github.io/PythonDataScienceHandbook/03.09-pivot-tables.html\n",
    "    "
   ]
  },
  {
   "cell_type": "markdown",
   "metadata": {},
   "source": [
    "# 1. Importando bibliotecas <a name=\"import\"></a>\n",
    "\n",
    "<div style=\"text-align: right\"\n",
    "     \n",
    "[Voltar ao índice](#Contents)"
   ]
  },
  {
   "cell_type": "code",
   "execution_count": 1,
   "metadata": {
    "ExecuteTime": {
     "end_time": "2021-06-06T21:12:37.298706Z",
     "start_time": "2021-06-06T21:12:36.656481Z"
    }
   },
   "outputs": [],
   "source": [
    "import numpy as np\n",
    "import pandas as pd\n",
    "import seaborn as sns\n",
    "import matplotlib.pyplot as plt\n",
    "\n",
    "%matplotlib inline"
   ]
  },
  {
   "cell_type": "markdown",
   "metadata": {},
   "source": [
    "# 2. Carregando o dataframe SINASC <a name=\"read\"></a>\n",
    "<div style=\"text-align: right\"\n",
    "     \n",
    "[Voltar ao índice](#Contents)"
   ]
  },
  {
   "cell_type": "code",
   "execution_count": 2,
   "metadata": {
    "ExecuteTime": {
     "end_time": "2021-06-06T21:12:37.762376Z",
     "start_time": "2021-06-06T21:12:37.728383Z"
    },
    "scrolled": true
   },
   "outputs": [
    {
     "data": {
      "text/html": [
       "<div>\n",
       "<style scoped>\n",
       "    .dataframe tbody tr th:only-of-type {\n",
       "        vertical-align: middle;\n",
       "    }\n",
       "\n",
       "    .dataframe tbody tr th {\n",
       "        vertical-align: top;\n",
       "    }\n",
       "\n",
       "    .dataframe thead th {\n",
       "        text-align: right;\n",
       "    }\n",
       "</style>\n",
       "<table border=\"1\" class=\"dataframe\">\n",
       "  <thead>\n",
       "    <tr style=\"text-align: right;\">\n",
       "      <th></th>\n",
       "      <th>ORIGEM</th>\n",
       "      <th>CODESTAB</th>\n",
       "      <th>CODMUNNASC</th>\n",
       "      <th>LOCNASC</th>\n",
       "      <th>IDADEMAE</th>\n",
       "      <th>ESTCIVMAE</th>\n",
       "      <th>ESCMAE</th>\n",
       "      <th>CODOCUPMAE</th>\n",
       "      <th>QTDFILVIVO</th>\n",
       "      <th>QTDFILMORT</th>\n",
       "      <th>...</th>\n",
       "      <th>KOTELCHUCK</th>\n",
       "      <th>CONTADOR</th>\n",
       "      <th>munResStatus</th>\n",
       "      <th>munResTipo</th>\n",
       "      <th>munResNome</th>\n",
       "      <th>munResUf</th>\n",
       "      <th>munResLat</th>\n",
       "      <th>munResLon</th>\n",
       "      <th>munResAlt</th>\n",
       "      <th>munResArea</th>\n",
       "    </tr>\n",
       "  </thead>\n",
       "  <tbody>\n",
       "    <tr>\n",
       "      <th>0</th>\n",
       "      <td>1</td>\n",
       "      <td>2679477.0</td>\n",
       "      <td>110001</td>\n",
       "      <td>1</td>\n",
       "      <td>19</td>\n",
       "      <td>5.0</td>\n",
       "      <td>8 a 11 anos</td>\n",
       "      <td>NaN</td>\n",
       "      <td>0.0</td>\n",
       "      <td>0.0</td>\n",
       "      <td>...</td>\n",
       "      <td>5</td>\n",
       "      <td>1</td>\n",
       "      <td>ATIVO</td>\n",
       "      <td>MUNIC</td>\n",
       "      <td>Alta Floresta D'Oeste</td>\n",
       "      <td>Rondônia</td>\n",
       "      <td>-11.93554</td>\n",
       "      <td>-61.99982</td>\n",
       "      <td>338.0</td>\n",
       "      <td>7067.025</td>\n",
       "    </tr>\n",
       "    <tr>\n",
       "      <th>1</th>\n",
       "      <td>1</td>\n",
       "      <td>2679477.0</td>\n",
       "      <td>110001</td>\n",
       "      <td>1</td>\n",
       "      <td>29</td>\n",
       "      <td>2.0</td>\n",
       "      <td>8 a 11 anos</td>\n",
       "      <td>999992.0</td>\n",
       "      <td>1.0</td>\n",
       "      <td>0.0</td>\n",
       "      <td>...</td>\n",
       "      <td>5</td>\n",
       "      <td>2</td>\n",
       "      <td>ATIVO</td>\n",
       "      <td>MUNIC</td>\n",
       "      <td>Alta Floresta D'Oeste</td>\n",
       "      <td>Rondônia</td>\n",
       "      <td>-11.93554</td>\n",
       "      <td>-61.99982</td>\n",
       "      <td>338.0</td>\n",
       "      <td>7067.025</td>\n",
       "    </tr>\n",
       "    <tr>\n",
       "      <th>2</th>\n",
       "      <td>1</td>\n",
       "      <td>2679477.0</td>\n",
       "      <td>110001</td>\n",
       "      <td>1</td>\n",
       "      <td>37</td>\n",
       "      <td>9.0</td>\n",
       "      <td>8 a 11 anos</td>\n",
       "      <td>513205.0</td>\n",
       "      <td>2.0</td>\n",
       "      <td>0.0</td>\n",
       "      <td>...</td>\n",
       "      <td>5</td>\n",
       "      <td>3</td>\n",
       "      <td>ATIVO</td>\n",
       "      <td>MUNIC</td>\n",
       "      <td>Alta Floresta D'Oeste</td>\n",
       "      <td>Rondônia</td>\n",
       "      <td>-11.93554</td>\n",
       "      <td>-61.99982</td>\n",
       "      <td>338.0</td>\n",
       "      <td>7067.025</td>\n",
       "    </tr>\n",
       "    <tr>\n",
       "      <th>3</th>\n",
       "      <td>1</td>\n",
       "      <td>2516500.0</td>\n",
       "      <td>110001</td>\n",
       "      <td>1</td>\n",
       "      <td>30</td>\n",
       "      <td>5.0</td>\n",
       "      <td>12 anos ou mais</td>\n",
       "      <td>231205.0</td>\n",
       "      <td>0.0</td>\n",
       "      <td>0.0</td>\n",
       "      <td>...</td>\n",
       "      <td>4</td>\n",
       "      <td>4</td>\n",
       "      <td>ATIVO</td>\n",
       "      <td>MUNIC</td>\n",
       "      <td>Alto Alegre dos Parecis</td>\n",
       "      <td>Rondônia</td>\n",
       "      <td>-12.13178</td>\n",
       "      <td>-61.85308</td>\n",
       "      <td>397.0</td>\n",
       "      <td>3958.273</td>\n",
       "    </tr>\n",
       "    <tr>\n",
       "      <th>4</th>\n",
       "      <td>1</td>\n",
       "      <td>2516500.0</td>\n",
       "      <td>110001</td>\n",
       "      <td>1</td>\n",
       "      <td>30</td>\n",
       "      <td>2.0</td>\n",
       "      <td>8 a 11 anos</td>\n",
       "      <td>999992.0</td>\n",
       "      <td>1.0</td>\n",
       "      <td>0.0</td>\n",
       "      <td>...</td>\n",
       "      <td>5</td>\n",
       "      <td>5</td>\n",
       "      <td>ATIVO</td>\n",
       "      <td>MUNIC</td>\n",
       "      <td>Alta Floresta D'Oeste</td>\n",
       "      <td>Rondônia</td>\n",
       "      <td>-11.93554</td>\n",
       "      <td>-61.99982</td>\n",
       "      <td>338.0</td>\n",
       "      <td>7067.025</td>\n",
       "    </tr>\n",
       "  </tbody>\n",
       "</table>\n",
       "<p>5 rows × 69 columns</p>\n",
       "</div>"
      ],
      "text/plain": [
       "   ORIGEM   CODESTAB  CODMUNNASC  LOCNASC  IDADEMAE  ESTCIVMAE  \\\n",
       "0       1  2679477.0      110001        1        19        5.0   \n",
       "1       1  2679477.0      110001        1        29        2.0   \n",
       "2       1  2679477.0      110001        1        37        9.0   \n",
       "3       1  2516500.0      110001        1        30        5.0   \n",
       "4       1  2516500.0      110001        1        30        2.0   \n",
       "\n",
       "            ESCMAE  CODOCUPMAE  QTDFILVIVO  QTDFILMORT  ...  KOTELCHUCK  \\\n",
       "0      8 a 11 anos         NaN         0.0         0.0  ...           5   \n",
       "1      8 a 11 anos    999992.0         1.0         0.0  ...           5   \n",
       "2      8 a 11 anos    513205.0         2.0         0.0  ...           5   \n",
       "3  12 anos ou mais    231205.0         0.0         0.0  ...           4   \n",
       "4      8 a 11 anos    999992.0         1.0         0.0  ...           5   \n",
       "\n",
       "  CONTADOR munResStatus munResTipo               munResNome  munResUf  \\\n",
       "0        1        ATIVO      MUNIC    Alta Floresta D'Oeste  Rondônia   \n",
       "1        2        ATIVO      MUNIC    Alta Floresta D'Oeste  Rondônia   \n",
       "2        3        ATIVO      MUNIC    Alta Floresta D'Oeste  Rondônia   \n",
       "3        4        ATIVO      MUNIC  Alto Alegre dos Parecis  Rondônia   \n",
       "4        5        ATIVO      MUNIC    Alta Floresta D'Oeste  Rondônia   \n",
       "\n",
       "   munResLat munResLon  munResAlt  munResArea  \n",
       "0  -11.93554 -61.99982      338.0    7067.025  \n",
       "1  -11.93554 -61.99982      338.0    7067.025  \n",
       "2  -11.93554 -61.99982      338.0    7067.025  \n",
       "3  -12.13178 -61.85308      397.0    3958.273  \n",
       "4  -11.93554 -61.99982      338.0    7067.025  \n",
       "\n",
       "[5 rows x 69 columns]"
      ]
     },
     "execution_count": 2,
     "metadata": {},
     "output_type": "execute_result"
    }
   ],
   "source": [
    "sinasc_raw = pd.read_csv('SINASC_RO_2019.csv')\n",
    "sinasc_raw.head()"
   ]
  },
  {
   "cell_type": "markdown",
   "metadata": {},
   "source": [
    "# Tarefa 2"
   ]
  },
  {
   "cell_type": "markdown",
   "metadata": {},
   "source": [
    "### 1. Crie 2 faixas de Latitude do município (munResLat) sendo uma acima e outra abaixo de -10.5 e aplique o groupby usando essas faixas como chave e realize operações de soma, media, minimo, maximo, mediana, desvio padrao, variancia pra pelo menos 2 variáveis numéricas ainda não utilizadas"
   ]
  },
  {
   "cell_type": "code",
   "execution_count": 3,
   "metadata": {},
   "outputs": [
    {
     "data": {
      "text/plain": [
       "(53,)"
      ]
     },
     "execution_count": 3,
     "metadata": {},
     "output_type": "execute_result"
    }
   ],
   "source": [
    "sinasc_raw['munResNome'].value_counts().shape"
   ]
  },
  {
   "cell_type": "code",
   "execution_count": 4,
   "metadata": {},
   "outputs": [
    {
     "data": {
      "text/html": [
       "<div>\n",
       "<style scoped>\n",
       "    .dataframe tbody tr th:only-of-type {\n",
       "        vertical-align: middle;\n",
       "    }\n",
       "\n",
       "    .dataframe tbody tr th {\n",
       "        vertical-align: top;\n",
       "    }\n",
       "\n",
       "    .dataframe thead tr th {\n",
       "        text-align: left;\n",
       "    }\n",
       "\n",
       "    .dataframe thead tr:last-of-type th {\n",
       "        text-align: right;\n",
       "    }\n",
       "</style>\n",
       "<table border=\"1\" class=\"dataframe\">\n",
       "  <thead>\n",
       "    <tr>\n",
       "      <th></th>\n",
       "      <th colspan=\"2\" halign=\"left\">sum</th>\n",
       "      <th colspan=\"2\" halign=\"left\">mean</th>\n",
       "      <th colspan=\"2\" halign=\"left\">min</th>\n",
       "      <th colspan=\"2\" halign=\"left\">max</th>\n",
       "      <th colspan=\"2\" halign=\"left\">median</th>\n",
       "      <th colspan=\"2\" halign=\"left\">std</th>\n",
       "      <th colspan=\"2\" halign=\"left\">var</th>\n",
       "    </tr>\n",
       "    <tr>\n",
       "      <th></th>\n",
       "      <th>APGAR1</th>\n",
       "      <th>APGAR5</th>\n",
       "      <th>APGAR1</th>\n",
       "      <th>APGAR5</th>\n",
       "      <th>APGAR1</th>\n",
       "      <th>APGAR5</th>\n",
       "      <th>APGAR1</th>\n",
       "      <th>APGAR5</th>\n",
       "      <th>APGAR1</th>\n",
       "      <th>APGAR5</th>\n",
       "      <th>APGAR1</th>\n",
       "      <th>APGAR5</th>\n",
       "      <th>APGAR1</th>\n",
       "      <th>APGAR5</th>\n",
       "    </tr>\n",
       "    <tr>\n",
       "      <th>munResLat</th>\n",
       "      <th></th>\n",
       "      <th></th>\n",
       "      <th></th>\n",
       "      <th></th>\n",
       "      <th></th>\n",
       "      <th></th>\n",
       "      <th></th>\n",
       "      <th></th>\n",
       "      <th></th>\n",
       "      <th></th>\n",
       "      <th></th>\n",
       "      <th></th>\n",
       "      <th></th>\n",
       "      <th></th>\n",
       "    </tr>\n",
       "  </thead>\n",
       "  <tbody>\n",
       "    <tr>\n",
       "      <th>(-13.5, -10.5]</th>\n",
       "      <td>104590.0</td>\n",
       "      <td>118393.0</td>\n",
       "      <td>8.070216</td>\n",
       "      <td>9.138788</td>\n",
       "      <td>0.0</td>\n",
       "      <td>0.0</td>\n",
       "      <td>10.0</td>\n",
       "      <td>10.0</td>\n",
       "      <td>8.0</td>\n",
       "      <td>9.0</td>\n",
       "      <td>0.960767</td>\n",
       "      <td>0.805381</td>\n",
       "      <td>0.923073</td>\n",
       "      <td>0.648638</td>\n",
       "    </tr>\n",
       "    <tr>\n",
       "      <th>(-10.5, -8.7]</th>\n",
       "      <td>114559.0</td>\n",
       "      <td>128746.0</td>\n",
       "      <td>8.199771</td>\n",
       "      <td>9.216551</td>\n",
       "      <td>0.0</td>\n",
       "      <td>0.0</td>\n",
       "      <td>10.0</td>\n",
       "      <td>10.0</td>\n",
       "      <td>8.0</td>\n",
       "      <td>9.0</td>\n",
       "      <td>1.002839</td>\n",
       "      <td>0.774741</td>\n",
       "      <td>1.005686</td>\n",
       "      <td>0.600224</td>\n",
       "    </tr>\n",
       "  </tbody>\n",
       "</table>\n",
       "</div>"
      ],
      "text/plain": [
       "                     sum                mean              min           max  \\\n",
       "                  APGAR1    APGAR5    APGAR1    APGAR5 APGAR1 APGAR5 APGAR1   \n",
       "munResLat                                                                     \n",
       "(-13.5, -10.5]  104590.0  118393.0  8.070216  9.138788    0.0    0.0   10.0   \n",
       "(-10.5, -8.7]   114559.0  128746.0  8.199771  9.216551    0.0    0.0   10.0   \n",
       "\n",
       "                      median              std                 var            \n",
       "               APGAR5 APGAR1 APGAR5    APGAR1    APGAR5    APGAR1    APGAR5  \n",
       "munResLat                                                                    \n",
       "(-13.5, -10.5]   10.0    8.0    9.0  0.960767  0.805381  0.923073  0.648638  \n",
       "(-10.5, -8.7]    10.0    8.0    9.0  1.002839  0.774741  1.005686  0.600224  "
      ]
     },
     "execution_count": 4,
     "metadata": {},
     "output_type": "execute_result"
    }
   ],
   "source": [
    "#agrupando 2 categorias de latitude dos municípios em uma variável\n",
    "lat_mun = pd.cut(sinasc_raw['munResLat'], [-13.5, -10.5, -8.7])\n",
    "#montando um DataFrame para trabalhar com os dados e aplicar as operações\n",
    "df_1 = sinasc_raw[['APGAR5', 'APGAR1']]\n",
    "#aplicando as operações na utilização do pivot table\n",
    "df_1.pivot_table(values=['APGAR5', 'APGAR1'],\n",
    "index=lat_mun, \n",
    "aggfunc=['sum','mean','min','max','median','std','var']\n",
    ") \n"
   ]
  },
  {
   "cell_type": "markdown",
   "metadata": {},
   "source": [
    "### 3. Determine faixas na variável munResAlt e aplique o groupby usando essas faixas como chave e realize operações de soma, media, minimo, maximo, mediana, desvio padrao, variancia pra pelo menos 2 variáveis numéricas ainda não utilizadas"
   ]
  },
  {
   "cell_type": "code",
   "execution_count": 5,
   "metadata": {},
   "outputs": [
    {
     "data": {
      "text/plain": [
       "Index(['ORIGEM', 'CODESTAB', 'CODMUNNASC', 'LOCNASC', 'IDADEMAE', 'ESTCIVMAE',\n",
       "       'ESCMAE', 'CODOCUPMAE', 'QTDFILVIVO', 'QTDFILMORT', 'CODMUNRES',\n",
       "       'GESTACAO', 'GRAVIDEZ', 'PARTO', 'CONSULTAS', 'DTNASC', 'HORANASC',\n",
       "       'SEXO', 'APGAR1', 'APGAR5', 'RACACOR', 'PESO', 'IDANOMAL', 'DTCADASTRO',\n",
       "       'CODANOMAL', 'NUMEROLOTE', 'VERSAOSIST', 'DTRECEBIM', 'DIFDATA',\n",
       "       'DTRECORIGA', 'NATURALMAE', 'CODMUNNATU', 'CODUFNATU', 'ESCMAE2010',\n",
       "       'SERIESCMAE', 'DTNASCMAE', 'RACACORMAE', 'QTDGESTANT', 'QTDPARTNOR',\n",
       "       'QTDPARTCES', 'IDADEPAI', 'DTULTMENST', 'SEMAGESTAC', 'TPMETESTIM',\n",
       "       'CONSPRENAT', 'MESPRENAT', 'TPAPRESENT', 'STTRABPART', 'STCESPARTO',\n",
       "       'TPNASCASSI', 'TPFUNCRESP', 'TPDOCRESP', 'DTDECLARAC', 'ESCMAEAGR1',\n",
       "       'STDNEPIDEM', 'STDNNOVA', 'CODPAISRES', 'TPROBSON', 'PARIDADE',\n",
       "       'KOTELCHUCK', 'CONTADOR', 'munResStatus', 'munResTipo', 'munResNome',\n",
       "       'munResUf', 'munResLat', 'munResLon', 'munResAlt', 'munResArea'],\n",
       "      dtype='object')"
      ]
     },
     "execution_count": 5,
     "metadata": {},
     "output_type": "execute_result"
    }
   ],
   "source": [
    "sinasc_raw.columns"
   ]
  },
  {
   "cell_type": "code",
   "execution_count": 6,
   "metadata": {},
   "outputs": [
    {
     "data": {
      "text/html": [
       "<div>\n",
       "<style scoped>\n",
       "    .dataframe tbody tr th:only-of-type {\n",
       "        vertical-align: middle;\n",
       "    }\n",
       "\n",
       "    .dataframe tbody tr th {\n",
       "        vertical-align: top;\n",
       "    }\n",
       "\n",
       "    .dataframe thead tr th {\n",
       "        text-align: left;\n",
       "    }\n",
       "\n",
       "    .dataframe thead tr:last-of-type th {\n",
       "        text-align: right;\n",
       "    }\n",
       "</style>\n",
       "<table border=\"1\" class=\"dataframe\">\n",
       "  <thead>\n",
       "    <tr>\n",
       "      <th></th>\n",
       "      <th colspan=\"2\" halign=\"left\">sum</th>\n",
       "      <th colspan=\"2\" halign=\"left\">mean</th>\n",
       "      <th colspan=\"2\" halign=\"left\">min</th>\n",
       "      <th colspan=\"2\" halign=\"left\">max</th>\n",
       "      <th colspan=\"2\" halign=\"left\">median</th>\n",
       "      <th colspan=\"2\" halign=\"left\">std</th>\n",
       "      <th colspan=\"2\" halign=\"left\">var</th>\n",
       "    </tr>\n",
       "    <tr>\n",
       "      <th></th>\n",
       "      <th>QTDFILMORT</th>\n",
       "      <th>QTDFILVIVO</th>\n",
       "      <th>QTDFILMORT</th>\n",
       "      <th>QTDFILVIVO</th>\n",
       "      <th>QTDFILMORT</th>\n",
       "      <th>QTDFILVIVO</th>\n",
       "      <th>QTDFILMORT</th>\n",
       "      <th>QTDFILVIVO</th>\n",
       "      <th>QTDFILMORT</th>\n",
       "      <th>QTDFILVIVO</th>\n",
       "      <th>QTDFILMORT</th>\n",
       "      <th>QTDFILVIVO</th>\n",
       "      <th>QTDFILMORT</th>\n",
       "      <th>QTDFILVIVO</th>\n",
       "    </tr>\n",
       "    <tr>\n",
       "      <th>munResAlt</th>\n",
       "      <th></th>\n",
       "      <th></th>\n",
       "      <th></th>\n",
       "      <th></th>\n",
       "      <th></th>\n",
       "      <th></th>\n",
       "      <th></th>\n",
       "      <th></th>\n",
       "      <th></th>\n",
       "      <th></th>\n",
       "      <th></th>\n",
       "      <th></th>\n",
       "      <th></th>\n",
       "      <th></th>\n",
       "    </tr>\n",
       "  </thead>\n",
       "  <tbody>\n",
       "    <tr>\n",
       "      <th>(84.999, 87.0]</th>\n",
       "      <td>2282.0</td>\n",
       "      <td>8976.0</td>\n",
       "      <td>0.309550</td>\n",
       "      <td>1.177798</td>\n",
       "      <td>0.0</td>\n",
       "      <td>0.0</td>\n",
       "      <td>9.0</td>\n",
       "      <td>12.0</td>\n",
       "      <td>0.0</td>\n",
       "      <td>1.0</td>\n",
       "      <td>0.642375</td>\n",
       "      <td>1.236798</td>\n",
       "      <td>0.412645</td>\n",
       "      <td>1.529670</td>\n",
       "    </tr>\n",
       "    <tr>\n",
       "      <th>(87.0, 153.0]</th>\n",
       "      <td>1238.0</td>\n",
       "      <td>5430.0</td>\n",
       "      <td>0.284860</td>\n",
       "      <td>1.189225</td>\n",
       "      <td>0.0</td>\n",
       "      <td>0.0</td>\n",
       "      <td>9.0</td>\n",
       "      <td>14.0</td>\n",
       "      <td>0.0</td>\n",
       "      <td>1.0</td>\n",
       "      <td>0.639574</td>\n",
       "      <td>1.319208</td>\n",
       "      <td>0.409055</td>\n",
       "      <td>1.740309</td>\n",
       "    </tr>\n",
       "    <tr>\n",
       "      <th>(153.0, 191.0]</th>\n",
       "      <td>1585.0</td>\n",
       "      <td>6354.0</td>\n",
       "      <td>0.230949</td>\n",
       "      <td>0.922608</td>\n",
       "      <td>0.0</td>\n",
       "      <td>0.0</td>\n",
       "      <td>5.0</td>\n",
       "      <td>9.0</td>\n",
       "      <td>0.0</td>\n",
       "      <td>1.0</td>\n",
       "      <td>0.534301</td>\n",
       "      <td>1.041525</td>\n",
       "      <td>0.285477</td>\n",
       "      <td>1.084773</td>\n",
       "    </tr>\n",
       "    <tr>\n",
       "      <th>(191.0, 595.0]</th>\n",
       "      <td>1538.0</td>\n",
       "      <td>6066.0</td>\n",
       "      <td>0.242281</td>\n",
       "      <td>0.950784</td>\n",
       "      <td>0.0</td>\n",
       "      <td>0.0</td>\n",
       "      <td>28.0</td>\n",
       "      <td>30.0</td>\n",
       "      <td>0.0</td>\n",
       "      <td>1.0</td>\n",
       "      <td>0.638724</td>\n",
       "      <td>1.079861</td>\n",
       "      <td>0.407968</td>\n",
       "      <td>1.166099</td>\n",
       "    </tr>\n",
       "  </tbody>\n",
       "</table>\n",
       "</div>"
      ],
      "text/plain": [
       "                      sum                  mean                   min  \\\n",
       "               QTDFILMORT QTDFILVIVO QTDFILMORT QTDFILVIVO QTDFILMORT   \n",
       "munResAlt                                                               \n",
       "(84.999, 87.0]     2282.0     8976.0   0.309550   1.177798        0.0   \n",
       "(87.0, 153.0]      1238.0     5430.0   0.284860   1.189225        0.0   \n",
       "(153.0, 191.0]     1585.0     6354.0   0.230949   0.922608        0.0   \n",
       "(191.0, 595.0]     1538.0     6066.0   0.242281   0.950784        0.0   \n",
       "\n",
       "                                 max                median             \\\n",
       "               QTDFILVIVO QTDFILMORT QTDFILVIVO QTDFILMORT QTDFILVIVO   \n",
       "munResAlt                                                               \n",
       "(84.999, 87.0]        0.0        9.0       12.0        0.0        1.0   \n",
       "(87.0, 153.0]         0.0        9.0       14.0        0.0        1.0   \n",
       "(153.0, 191.0]        0.0        5.0        9.0        0.0        1.0   \n",
       "(191.0, 595.0]        0.0       28.0       30.0        0.0        1.0   \n",
       "\n",
       "                      std                   var             \n",
       "               QTDFILMORT QTDFILVIVO QTDFILMORT QTDFILVIVO  \n",
       "munResAlt                                                   \n",
       "(84.999, 87.0]   0.642375   1.236798   0.412645   1.529670  \n",
       "(87.0, 153.0]    0.639574   1.319208   0.409055   1.740309  \n",
       "(153.0, 191.0]   0.534301   1.041525   0.285477   1.084773  \n",
       "(191.0, 595.0]   0.638724   1.079861   0.407968   1.166099  "
      ]
     },
     "execution_count": 6,
     "metadata": {},
     "output_type": "execute_result"
    }
   ],
   "source": [
    "#vamos utilizar das variáveis \"QTDFILVIVO\" e \"QTDFILMORT\" no nosso novo DataFrame, que correspondem às quantidades de filhos vivos e filhos mortos respectivamente\n",
    "df_2 = sinasc_raw[['QTDFILVIVO', 'QTDFILMORT']]\n",
    "#agora agruparemos o nosso DataFrame por quartis da coluna de altitude dos municípios \"munResAlt\"\n",
    "mun_alt = pd.qcut(sinasc_raw['munResAlt'],4)\n",
    "pd.pivot_table(df_2, values=['QTDFILVIVO','QTDFILMORT'], \n",
    "index=mun_alt,\n",
    "aggfunc=['sum','mean','min','max','median','std','var']\n",
    ")\n"
   ]
  },
  {
   "cell_type": "markdown",
   "metadata": {},
   "source": [
    "### 4. Plote no mesmo grafico ao longo do tempo a idade media das mulheres de cada regiao imediatas de rondonia\n",
    "https://pt.wikipedia.org/wiki/Lista_de_regi%C3%B5es_geogr%C3%A1ficas_intermedi%C3%A1rias_e_imediatas_de_Rond%C3%B4nia"
   ]
  },
  {
   "cell_type": "code",
   "execution_count": 7,
   "metadata": {},
   "outputs": [
    {
     "data": {
      "text/html": [
       "<div>\n",
       "<style scoped>\n",
       "    .dataframe tbody tr th:only-of-type {\n",
       "        vertical-align: middle;\n",
       "    }\n",
       "\n",
       "    .dataframe tbody tr th {\n",
       "        vertical-align: top;\n",
       "    }\n",
       "\n",
       "    .dataframe thead th {\n",
       "        text-align: right;\n",
       "    }\n",
       "</style>\n",
       "<table border=\"1\" class=\"dataframe\">\n",
       "  <thead>\n",
       "    <tr style=\"text-align: right;\">\n",
       "      <th></th>\n",
       "      <th>munResNome</th>\n",
       "      <th>IDADEMAE</th>\n",
       "    </tr>\n",
       "  </thead>\n",
       "  <tbody>\n",
       "    <tr>\n",
       "      <th>0</th>\n",
       "      <td>Alta Floresta D'Oeste</td>\n",
       "      <td>19</td>\n",
       "    </tr>\n",
       "    <tr>\n",
       "      <th>1</th>\n",
       "      <td>Alta Floresta D'Oeste</td>\n",
       "      <td>29</td>\n",
       "    </tr>\n",
       "    <tr>\n",
       "      <th>2</th>\n",
       "      <td>Alta Floresta D'Oeste</td>\n",
       "      <td>37</td>\n",
       "    </tr>\n",
       "    <tr>\n",
       "      <th>3</th>\n",
       "      <td>Alto Alegre dos Parecis</td>\n",
       "      <td>30</td>\n",
       "    </tr>\n",
       "    <tr>\n",
       "      <th>4</th>\n",
       "      <td>Alta Floresta D'Oeste</td>\n",
       "      <td>30</td>\n",
       "    </tr>\n",
       "    <tr>\n",
       "      <th>...</th>\n",
       "      <td>...</td>\n",
       "      <td>...</td>\n",
       "    </tr>\n",
       "    <tr>\n",
       "      <th>27023</th>\n",
       "      <td>Vilhena</td>\n",
       "      <td>32</td>\n",
       "    </tr>\n",
       "    <tr>\n",
       "      <th>27024</th>\n",
       "      <td>Chupinguaia</td>\n",
       "      <td>19</td>\n",
       "    </tr>\n",
       "    <tr>\n",
       "      <th>27025</th>\n",
       "      <td>Vilhena</td>\n",
       "      <td>24</td>\n",
       "    </tr>\n",
       "    <tr>\n",
       "      <th>27026</th>\n",
       "      <td>Vilhena</td>\n",
       "      <td>21</td>\n",
       "    </tr>\n",
       "    <tr>\n",
       "      <th>27027</th>\n",
       "      <td>Novo Horizonte do Oeste</td>\n",
       "      <td>18</td>\n",
       "    </tr>\n",
       "  </tbody>\n",
       "</table>\n",
       "<p>27028 rows × 2 columns</p>\n",
       "</div>"
      ],
      "text/plain": [
       "                    munResNome  IDADEMAE\n",
       "0        Alta Floresta D'Oeste        19\n",
       "1        Alta Floresta D'Oeste        29\n",
       "2        Alta Floresta D'Oeste        37\n",
       "3      Alto Alegre dos Parecis        30\n",
       "4        Alta Floresta D'Oeste        30\n",
       "...                        ...       ...\n",
       "27023                  Vilhena        32\n",
       "27024              Chupinguaia        19\n",
       "27025                  Vilhena        24\n",
       "27026                  Vilhena        21\n",
       "27027  Novo Horizonte do Oeste        18\n",
       "\n",
       "[27028 rows x 2 columns]"
      ]
     },
     "execution_count": 7,
     "metadata": {},
     "output_type": "execute_result"
    }
   ],
   "source": [
    "df_3 = sinasc_raw[['munResNome','IDADEMAE']]\n",
    "df_3\n"
   ]
  },
  {
   "cell_type": "code",
   "execution_count": 8,
   "metadata": {},
   "outputs": [],
   "source": [
    "mapping = {\n",
    "'Candeias do Jamari':'Porto Velho',\n",
    "'Guajará-Mirim':'Porto Velho',\n",
    "'Itapuã do Oeste':'Porto Velho',\n",
    "'Nova Mamoré':'Porto Velho',\n",
    "'Porto Velho':'Porto Velho',\n",
    "'Alto Paraíso':'Ariquemes',\n",
    "'Ariquemes':'Ariquemes',\n",
    "'Buritis':'Ariquemes',\n",
    "'Cacaulândia':'Ariquemes',\n",
    "'Campo Novo de Rondônia':'Ariquemes',\n",
    "'Cujubim':'Ariquemes',\n",
    "'Monte Negro':'Ariquemes',\n",
    "'Rio Crespo':'Ariquemes',\n",
    "'Governador Jorge Teixeira':'Jaru',\n",
    "'Jaru':'Jaru',\n",
    "\"Machadinho D'Oeste\":'Jaru',\n",
    "'Theobroma':'Jaru',\n",
    "'Vale do Anari':'Jaru',\n",
    "\"Alvorada D'Oeste\":'Ji-Paraná',\n",
    "'Costa Marques':'Ji-Paraná',\n",
    "'Ji-Paraná':'Ji-Paraná',\n",
    "'Mirante da Serra':'Ji-Paraná',\n",
    "'Nova União':'Ji-Paraná',\n",
    "'Ouro Preto do Oeste':'Ji-Paraná',\n",
    "'Presidente Médici':'Ji-Paraná',\n",
    "'São Francisco do Guaporé':'Ji-Paraná',\n",
    "'São Miguel do Guaporé':'Ji-Paraná',\n",
    "'Seringueiras':'Ji-Paraná',\n",
    "'Teixeirópolis':'Ji-Paraná',\n",
    "'Urupá':'Ji-Paraná',\n",
    "'Vale do Paraíso':'Ji-Paraná',\n",
    "\"Alta Floresta D'Oeste\":'Cacoal',\n",
    "'Alto Alegre dos Parecis':'Cacoal',\n",
    "'Cacoal':'Cacoal',\n",
    "'Castanheiras':'Cacoal',\n",
    "\"Espigão D'Oeste\":'Cacoal',\n",
    "'Ministro Andreazza':'Cacoal',\n",
    "\"Nova Brasilândia D'Oeste\":'Cacoal',\n",
    "'Novo Horizonte do Oeste':'Cacoal',\n",
    "'Parecis':'Cacoal',\n",
    "'Pimenta Bueno':'Cacoal',\n",
    "'Primavera de Rondônia':'Cacoal',\n",
    "'Rolim de Moura':'Cacoal',\n",
    "\"Santa Luzia D'Oeste\":'Cacoal',\n",
    "\"São Felipe D'Oeste\":'Cacoal',\n",
    "'Cabixi':'Vilhena',\n",
    "'Cerejeiras':'Vilhena',\n",
    "'Chupinguaia':'Vilhena',\n",
    "'Colorado do Oeste':'Vilhena',\n",
    "'Corumbiara':'Vilhena',\n",
    "'Pimenteiras do Oeste':'Vilhena',\n",
    "'Vilhena':'Vilhena',\n",
    "'Município ignorado - RO':''\n",
    "}"
   ]
  },
  {
   "cell_type": "code",
   "execution_count": 9,
   "metadata": {},
   "outputs": [
    {
     "name": "stderr",
     "output_type": "stream",
     "text": [
      "/tmp/ipykernel_3555/815721311.py:1: SettingWithCopyWarning: \n",
      "A value is trying to be set on a copy of a slice from a DataFrame\n",
      "\n",
      "See the caveats in the documentation: https://pandas.pydata.org/pandas-docs/stable/user_guide/indexing.html#returning-a-view-versus-a-copy\n",
      "  df_3.replace(mapping, inplace=True)\n"
     ]
    }
   ],
   "source": [
    "df_3.replace(mapping, inplace=True)"
   ]
  },
  {
   "cell_type": "code",
   "execution_count": 10,
   "metadata": {},
   "outputs": [
    {
     "data": {
      "text/html": [
       "<div>\n",
       "<style scoped>\n",
       "    .dataframe tbody tr th:only-of-type {\n",
       "        vertical-align: middle;\n",
       "    }\n",
       "\n",
       "    .dataframe tbody tr th {\n",
       "        vertical-align: top;\n",
       "    }\n",
       "\n",
       "    .dataframe thead th {\n",
       "        text-align: right;\n",
       "    }\n",
       "</style>\n",
       "<table border=\"1\" class=\"dataframe\">\n",
       "  <thead>\n",
       "    <tr style=\"text-align: right;\">\n",
       "      <th></th>\n",
       "      <th>IDADEMAE</th>\n",
       "    </tr>\n",
       "    <tr>\n",
       "      <th>munResNome</th>\n",
       "      <th></th>\n",
       "    </tr>\n",
       "  </thead>\n",
       "  <tbody>\n",
       "    <tr>\n",
       "      <th></th>\n",
       "      <td>24.000000</td>\n",
       "    </tr>\n",
       "    <tr>\n",
       "      <th>Ariquemes</th>\n",
       "      <td>25.459635</td>\n",
       "    </tr>\n",
       "    <tr>\n",
       "      <th>Cacoal</th>\n",
       "      <td>26.347817</td>\n",
       "    </tr>\n",
       "    <tr>\n",
       "      <th>Jaru</th>\n",
       "      <td>25.708853</td>\n",
       "    </tr>\n",
       "    <tr>\n",
       "      <th>Ji-Paraná</th>\n",
       "      <td>26.094720</td>\n",
       "    </tr>\n",
       "    <tr>\n",
       "      <th>Porto Velho</th>\n",
       "      <td>26.166303</td>\n",
       "    </tr>\n",
       "    <tr>\n",
       "      <th>Vilhena</th>\n",
       "      <td>26.417143</td>\n",
       "    </tr>\n",
       "  </tbody>\n",
       "</table>\n",
       "</div>"
      ],
      "text/plain": [
       "              IDADEMAE\n",
       "munResNome            \n",
       "             24.000000\n",
       "Ariquemes    25.459635\n",
       "Cacoal       26.347817\n",
       "Jaru         25.708853\n",
       "Ji-Paraná    26.094720\n",
       "Porto Velho  26.166303\n",
       "Vilhena      26.417143"
      ]
     },
     "execution_count": 10,
     "metadata": {},
     "output_type": "execute_result"
    }
   ],
   "source": [
    "ex_4 = pd.pivot_table(df_3,\n",
    "values=['munResNome','IDADEMAE'],\n",
    "index='munResNome',\n",
    "aggfunc='mean'\n",
    ")\n",
    "ex_4"
   ]
  },
  {
   "cell_type": "code",
   "execution_count": 11,
   "metadata": {},
   "outputs": [
    {
     "data": {
      "text/html": [
       "<div>\n",
       "<style scoped>\n",
       "    .dataframe tbody tr th:only-of-type {\n",
       "        vertical-align: middle;\n",
       "    }\n",
       "\n",
       "    .dataframe tbody tr th {\n",
       "        vertical-align: top;\n",
       "    }\n",
       "\n",
       "    .dataframe thead th {\n",
       "        text-align: right;\n",
       "    }\n",
       "</style>\n",
       "<table border=\"1\" class=\"dataframe\">\n",
       "  <thead>\n",
       "    <tr style=\"text-align: right;\">\n",
       "      <th></th>\n",
       "      <th>IDADEMAE</th>\n",
       "    </tr>\n",
       "    <tr>\n",
       "      <th>munResNome</th>\n",
       "      <th></th>\n",
       "    </tr>\n",
       "  </thead>\n",
       "  <tbody>\n",
       "    <tr>\n",
       "      <th>Ariquemes</th>\n",
       "      <td>25.459635</td>\n",
       "    </tr>\n",
       "    <tr>\n",
       "      <th>Cacoal</th>\n",
       "      <td>26.347817</td>\n",
       "    </tr>\n",
       "    <tr>\n",
       "      <th>Jaru</th>\n",
       "      <td>25.708853</td>\n",
       "    </tr>\n",
       "    <tr>\n",
       "      <th>Ji-Paraná</th>\n",
       "      <td>26.094720</td>\n",
       "    </tr>\n",
       "    <tr>\n",
       "      <th>Porto Velho</th>\n",
       "      <td>26.166303</td>\n",
       "    </tr>\n",
       "    <tr>\n",
       "      <th>Vilhena</th>\n",
       "      <td>26.417143</td>\n",
       "    </tr>\n",
       "  </tbody>\n",
       "</table>\n",
       "</div>"
      ],
      "text/plain": [
       "              IDADEMAE\n",
       "munResNome            \n",
       "Ariquemes    25.459635\n",
       "Cacoal       26.347817\n",
       "Jaru         25.708853\n",
       "Ji-Paraná    26.094720\n",
       "Porto Velho  26.166303\n",
       "Vilhena      26.417143"
      ]
     },
     "execution_count": 11,
     "metadata": {},
     "output_type": "execute_result"
    }
   ],
   "source": [
    "#eliminando o dado do município desconhecido\n",
    "ex_4 = ex_4.iloc[1:,:]\n",
    "ex_4"
   ]
  },
  {
   "cell_type": "code",
   "execution_count": 12,
   "metadata": {},
   "outputs": [
    {
     "data": {
      "text/plain": [
       "[<matplotlib.lines.Line2D at 0x7f681b974d60>]"
      ]
     },
     "execution_count": 12,
     "metadata": {},
     "output_type": "execute_result"
    },
    {
     "data": {
      "image/png": "[encoded data removed]",
      "text/plain": [
       "<Figure size 432x288 with 1 Axes>"
      ]
     },
     "metadata": {
      "needs_background": "light"
     },
     "output_type": "display_data"
    }
   ],
   "source": [
    "plt.title('média das Idades das mães por região imediata', fontsize=18)\n",
    "plt.xlabel('Regiões imediatas',fontsize=14)\n",
    "plt.ylabel('Média de idade',fontsize=14)\n",
    "plt.plot(ex_4.index,ex_4['IDADEMAE'])"
   ]
  },
  {
   "cell_type": "markdown",
   "metadata": {},
   "source": [
    "### 5. Utilize a tabela do link abaixo e crie faixas utilizando o mapping e gere agrupamentos utilizando essas faixas como chave\n"
   ]
  },
  {
   "cell_type": "markdown",
   "metadata": {},
   "source": [
    "### 5.1 IDH\n",
    "A - https://pt.wikipedia.org/wiki/Lista_de_munic%C3%ADpios_de_Rond%C3%B4nia_por_IDH-M\n"
   ]
  },
  {
   "cell_type": "code",
   "execution_count": 13,
   "metadata": {},
   "outputs": [
    {
     "data": {
      "text/html": [
       "<div>\n",
       "<style scoped>\n",
       "    .dataframe tbody tr th:only-of-type {\n",
       "        vertical-align: middle;\n",
       "    }\n",
       "\n",
       "    .dataframe tbody tr th {\n",
       "        vertical-align: top;\n",
       "    }\n",
       "\n",
       "    .dataframe thead th {\n",
       "        text-align: right;\n",
       "    }\n",
       "</style>\n",
       "<table border=\"1\" class=\"dataframe\">\n",
       "  <thead>\n",
       "    <tr style=\"text-align: right;\">\n",
       "      <th></th>\n",
       "      <th>munResNome</th>\n",
       "      <th>IDADEMAE</th>\n",
       "    </tr>\n",
       "  </thead>\n",
       "  <tbody>\n",
       "    <tr>\n",
       "      <th>0</th>\n",
       "      <td>Alta Floresta D'Oeste</td>\n",
       "      <td>19</td>\n",
       "    </tr>\n",
       "    <tr>\n",
       "      <th>1</th>\n",
       "      <td>Alta Floresta D'Oeste</td>\n",
       "      <td>29</td>\n",
       "    </tr>\n",
       "    <tr>\n",
       "      <th>2</th>\n",
       "      <td>Alta Floresta D'Oeste</td>\n",
       "      <td>37</td>\n",
       "    </tr>\n",
       "    <tr>\n",
       "      <th>3</th>\n",
       "      <td>Alto Alegre dos Parecis</td>\n",
       "      <td>30</td>\n",
       "    </tr>\n",
       "    <tr>\n",
       "      <th>4</th>\n",
       "      <td>Alta Floresta D'Oeste</td>\n",
       "      <td>30</td>\n",
       "    </tr>\n",
       "    <tr>\n",
       "      <th>...</th>\n",
       "      <td>...</td>\n",
       "      <td>...</td>\n",
       "    </tr>\n",
       "    <tr>\n",
       "      <th>27023</th>\n",
       "      <td>Vilhena</td>\n",
       "      <td>32</td>\n",
       "    </tr>\n",
       "    <tr>\n",
       "      <th>27024</th>\n",
       "      <td>Chupinguaia</td>\n",
       "      <td>19</td>\n",
       "    </tr>\n",
       "    <tr>\n",
       "      <th>27025</th>\n",
       "      <td>Vilhena</td>\n",
       "      <td>24</td>\n",
       "    </tr>\n",
       "    <tr>\n",
       "      <th>27026</th>\n",
       "      <td>Vilhena</td>\n",
       "      <td>21</td>\n",
       "    </tr>\n",
       "    <tr>\n",
       "      <th>27027</th>\n",
       "      <td>Novo Horizonte do Oeste</td>\n",
       "      <td>18</td>\n",
       "    </tr>\n",
       "  </tbody>\n",
       "</table>\n",
       "<p>27028 rows × 2 columns</p>\n",
       "</div>"
      ],
      "text/plain": [
       "                    munResNome  IDADEMAE\n",
       "0        Alta Floresta D'Oeste        19\n",
       "1        Alta Floresta D'Oeste        29\n",
       "2        Alta Floresta D'Oeste        37\n",
       "3      Alto Alegre dos Parecis        30\n",
       "4        Alta Floresta D'Oeste        30\n",
       "...                        ...       ...\n",
       "27023                  Vilhena        32\n",
       "27024              Chupinguaia        19\n",
       "27025                  Vilhena        24\n",
       "27026                  Vilhena        21\n",
       "27027  Novo Horizonte do Oeste        18\n",
       "\n",
       "[27028 rows x 2 columns]"
      ]
     },
     "execution_count": 13,
     "metadata": {},
     "output_type": "execute_result"
    }
   ],
   "source": [
    "df_4 = sinasc_raw[['munResNome','IDADEMAE']]\n",
    "df_4"
   ]
  },
  {
   "cell_type": "code",
   "execution_count": 14,
   "metadata": {},
   "outputs": [],
   "source": [
    "mapping = {\n",
    "    'Porto Velho':'IDH-M ALTO',\n",
    "    'Vilhena':'IDH-M ALTO',\n",
    "    'Cacoal':'IDH-M ALTO',\n",
    "    'Ji-Paraná':'IDH-M ALTO',\n",
    "    'Pimenta Bueno':'IDH-M ALTO',\n",
    "    'Ariquemes':'IDH-M ALTO',\n",
    "    'Rolim de Moura':'IDH-M ALTO',\n",
    "    'Cerejeiras':'IDH-M MÉDIO',\n",
    "    'Jaru':'IDH-M MÉDIO',\n",
    "    'Colorado do Oeste':'IDH-M MÉDIO',\n",
    "    'Ouro Preto do Oeste':'IDH-M MÉDIO',\n",
    "    \"Espigão D'Oeste\":'IDH-M MÉDIO',\n",
    "    \"Santa Luzia D'Oeste\":'IDH-M MÉDIO',\n",
    "    'Pimenteiras do Oeste':'IDH-M MÉDIO',\n",
    "    'Presidente Médici':'IDH-M MÉDIO',\n",
    "    'Castanheiras':'IDH-M MÉDIO',\n",
    "    'Guajará-Mirim':'IDH-M MÉDIO',\n",
    "    'Chupinguaia':'IDH-M MÉDIO',\n",
    "    'Cabixi':'IDH-M MÉDIO',\n",
    "    'Candeias do Jamari':'IDH-M MÉDIO',\n",
    "    \"São Felipe D'Oeste\":'IDH-M MÉDIO',\n",
    "    'Cacaulândia':'IDH-M MÉDIO',\n",
    "    'São Miguel do Guaporé':'IDH-M MÉDIO',\n",
    "    'Mirante da Serra':'IDH-M MÉDIO',\n",
    "    \"Alvorada D'Oeste\":'IDH-M MÉDIO',\n",
    "    'Teixeirópolis':'IDH-M MÉDIO',\n",
    "    \"Nova Brasilândia D'Oeste\":'IDH-M MÉDIO',\n",
    "    'Rio Crespo':'IDH-M MÉDIO',\n",
    "    'Primavera de Rondônia':'IDH-M MÉDIO',\n",
    "    \"Alta Floresta D'Oeste\":'IDH-M MÉDIO',\n",
    "    'Ministro Andreazza':'IDH-M MÉDIO',\n",
    "    'Novo Horizonte do Oeste':'IDH-M MÉDIO',\n",
    "    'Vale do Paraíso':'IDH-M MÉDIO',\n",
    "    'Alto Paraíso':'IDH-M MÉDIO',\n",
    "    'Parecis':'IDH-M MÉDIO',\n",
    "    'Buritis':'IDH-M MÉDIO',\n",
    "    'Itapuã do Oeste':'IDH-M MÉDIO',\n",
    "    'Corumbiara':'IDH-M MÉDIO',\n",
    "    'Cujubim':'IDH-M MÉDIO',\n",
    "    'Costa Marques':'IDH-M MÉDIO',\n",
    "    'São Francisco do Guaporé':'IDH-M MÉDIO',\n",
    "    'Urupá':'IDH-M MÉDIO',\n",
    "    'Monte Negro':'IDH-M MÉDIO',\n",
    "    'Seringueiras':'IDH-M BAIXO',\n",
    "    'Governador Jorge Teixeira':'IDH-M BAIXO',\n",
    "    \"Machadinho D'Oeste\":'IDH-M BAIXO',\n",
    "    'Campo Novo de Rondônia':'IDH-M BAIXO',\n",
    "    'Alto Alegre dos Parecis':'IDH-M BAIXO',\n",
    "    'Theobroma':'IDH-M BAIXO',\n",
    "    'Nova União':'IDH-M BAIXO',\n",
    "    'Nova Mamoré':'IDH-M BAIXO',\n",
    "    'Vale do Anari':'IDH-M BAIXO',\n",
    "    'Município ignorado - RO':''\n",
    "}"
   ]
  },
  {
   "cell_type": "code",
   "execution_count": 15,
   "metadata": {},
   "outputs": [
    {
     "name": "stderr",
     "output_type": "stream",
     "text": [
      "/tmp/ipykernel_3555/823178425.py:1: SettingWithCopyWarning: \n",
      "A value is trying to be set on a copy of a slice from a DataFrame\n",
      "\n",
      "See the caveats in the documentation: https://pandas.pydata.org/pandas-docs/stable/user_guide/indexing.html#returning-a-view-versus-a-copy\n",
      "  df_4.replace(mapping, inplace=True)\n"
     ]
    },
    {
     "data": {
      "text/html": [
       "<div>\n",
       "<style scoped>\n",
       "    .dataframe tbody tr th:only-of-type {\n",
       "        vertical-align: middle;\n",
       "    }\n",
       "\n",
       "    .dataframe tbody tr th {\n",
       "        vertical-align: top;\n",
       "    }\n",
       "\n",
       "    .dataframe thead th {\n",
       "        text-align: right;\n",
       "    }\n",
       "</style>\n",
       "<table border=\"1\" class=\"dataframe\">\n",
       "  <thead>\n",
       "    <tr style=\"text-align: right;\">\n",
       "      <th></th>\n",
       "      <th>munResNome</th>\n",
       "      <th>IDADEMAE</th>\n",
       "    </tr>\n",
       "  </thead>\n",
       "  <tbody>\n",
       "    <tr>\n",
       "      <th>0</th>\n",
       "      <td>IDH-M MÉDIO</td>\n",
       "      <td>19</td>\n",
       "    </tr>\n",
       "    <tr>\n",
       "      <th>1</th>\n",
       "      <td>IDH-M MÉDIO</td>\n",
       "      <td>29</td>\n",
       "    </tr>\n",
       "    <tr>\n",
       "      <th>2</th>\n",
       "      <td>IDH-M MÉDIO</td>\n",
       "      <td>37</td>\n",
       "    </tr>\n",
       "    <tr>\n",
       "      <th>3</th>\n",
       "      <td>IDH-M BAIXO</td>\n",
       "      <td>30</td>\n",
       "    </tr>\n",
       "    <tr>\n",
       "      <th>4</th>\n",
       "      <td>IDH-M MÉDIO</td>\n",
       "      <td>30</td>\n",
       "    </tr>\n",
       "    <tr>\n",
       "      <th>...</th>\n",
       "      <td>...</td>\n",
       "      <td>...</td>\n",
       "    </tr>\n",
       "    <tr>\n",
       "      <th>27023</th>\n",
       "      <td>IDH-M ALTO</td>\n",
       "      <td>32</td>\n",
       "    </tr>\n",
       "    <tr>\n",
       "      <th>27024</th>\n",
       "      <td>IDH-M MÉDIO</td>\n",
       "      <td>19</td>\n",
       "    </tr>\n",
       "    <tr>\n",
       "      <th>27025</th>\n",
       "      <td>IDH-M ALTO</td>\n",
       "      <td>24</td>\n",
       "    </tr>\n",
       "    <tr>\n",
       "      <th>27026</th>\n",
       "      <td>IDH-M ALTO</td>\n",
       "      <td>21</td>\n",
       "    </tr>\n",
       "    <tr>\n",
       "      <th>27027</th>\n",
       "      <td>IDH-M MÉDIO</td>\n",
       "      <td>18</td>\n",
       "    </tr>\n",
       "  </tbody>\n",
       "</table>\n",
       "<p>27028 rows × 2 columns</p>\n",
       "</div>"
      ],
      "text/plain": [
       "        munResNome  IDADEMAE\n",
       "0      IDH-M MÉDIO        19\n",
       "1      IDH-M MÉDIO        29\n",
       "2      IDH-M MÉDIO        37\n",
       "3      IDH-M BAIXO        30\n",
       "4      IDH-M MÉDIO        30\n",
       "...            ...       ...\n",
       "27023   IDH-M ALTO        32\n",
       "27024  IDH-M MÉDIO        19\n",
       "27025   IDH-M ALTO        24\n",
       "27026   IDH-M ALTO        21\n",
       "27027  IDH-M MÉDIO        18\n",
       "\n",
       "[27028 rows x 2 columns]"
      ]
     },
     "execution_count": 15,
     "metadata": {},
     "output_type": "execute_result"
    }
   ],
   "source": [
    "df_4.replace(mapping, inplace=True)\n",
    "df_4\n"
   ]
  },
  {
   "cell_type": "code",
   "execution_count": 16,
   "metadata": {},
   "outputs": [],
   "source": [
    "ex_5_1 = df_4.pivot_table(values=['munResNome','IDADEMAE'],\n",
    "index='munResNome',\n",
    "aggfunc='mean'\n",
    ")\n",
    "ex_5_1 = ex_5_1.iloc[1:,:]"
   ]
  },
  {
   "cell_type": "code",
   "execution_count": 17,
   "metadata": {},
   "outputs": [
    {
     "data": {
      "text/plain": [
       "munResNome\n",
       "IDH-M ALTO     26.280332\n",
       "IDH-M BAIXO    25.326944\n",
       "IDH-M MÉDIO    25.884855\n",
       "Name: IDADEMAE, dtype: float64"
      ]
     },
     "execution_count": 17,
     "metadata": {},
     "output_type": "execute_result"
    }
   ],
   "source": [
    "ex_5_1['IDADEMAE']"
   ]
  },
  {
   "cell_type": "code",
   "execution_count": 18,
   "metadata": {},
   "outputs": [
    {
     "data": {
      "text/plain": [
       "[<matplotlib.lines.Line2D at 0x7f681b4fcc10>]"
      ]
     },
     "execution_count": 18,
     "metadata": {},
     "output_type": "execute_result"
    },
    {
     "data": {
      "image/png": "[encoded data removed]",
      "text/plain": [
       "<Figure size 432x288 with 1 Axes>"
      ]
     },
     "metadata": {
      "needs_background": "light"
     },
     "output_type": "display_data"
    }
   ],
   "source": [
    "plt.title('Idade média de idades por IDH de Rondônia',fontsize=20)\n",
    "plt.xlabel('Nível IDH')\n",
    "plt.ylabel('Idade mãe')\n",
    "plt.plot(ex_5_1.index,ex_5_1['IDADEMAE'])"
   ]
  },
  {
   "cell_type": "markdown",
   "metadata": {},
   "source": [
    "### 5.2 IFDM \n",
    "B - https://pt.wikipedia.org/wiki/Lista_de_munic%C3%ADpios_de_Rond%C3%B4nia_por_IFDM\n"
   ]
  },
  {
   "cell_type": "code",
   "execution_count": 19,
   "metadata": {},
   "outputs": [
    {
     "data": {
      "text/html": [
       "<div>\n",
       "<style scoped>\n",
       "    .dataframe tbody tr th:only-of-type {\n",
       "        vertical-align: middle;\n",
       "    }\n",
       "\n",
       "    .dataframe tbody tr th {\n",
       "        vertical-align: top;\n",
       "    }\n",
       "\n",
       "    .dataframe thead th {\n",
       "        text-align: right;\n",
       "    }\n",
       "</style>\n",
       "<table border=\"1\" class=\"dataframe\">\n",
       "  <thead>\n",
       "    <tr style=\"text-align: right;\">\n",
       "      <th></th>\n",
       "      <th>munResNome</th>\n",
       "      <th>IDADEMAE</th>\n",
       "    </tr>\n",
       "  </thead>\n",
       "  <tbody>\n",
       "    <tr>\n",
       "      <th>0</th>\n",
       "      <td>Alta Floresta D'Oeste</td>\n",
       "      <td>19</td>\n",
       "    </tr>\n",
       "    <tr>\n",
       "      <th>1</th>\n",
       "      <td>Alta Floresta D'Oeste</td>\n",
       "      <td>29</td>\n",
       "    </tr>\n",
       "    <tr>\n",
       "      <th>2</th>\n",
       "      <td>Alta Floresta D'Oeste</td>\n",
       "      <td>37</td>\n",
       "    </tr>\n",
       "    <tr>\n",
       "      <th>3</th>\n",
       "      <td>Alto Alegre dos Parecis</td>\n",
       "      <td>30</td>\n",
       "    </tr>\n",
       "    <tr>\n",
       "      <th>4</th>\n",
       "      <td>Alta Floresta D'Oeste</td>\n",
       "      <td>30</td>\n",
       "    </tr>\n",
       "  </tbody>\n",
       "</table>\n",
       "</div>"
      ],
      "text/plain": [
       "                munResNome  IDADEMAE\n",
       "0    Alta Floresta D'Oeste        19\n",
       "1    Alta Floresta D'Oeste        29\n",
       "2    Alta Floresta D'Oeste        37\n",
       "3  Alto Alegre dos Parecis        30\n",
       "4    Alta Floresta D'Oeste        30"
      ]
     },
     "execution_count": 19,
     "metadata": {},
     "output_type": "execute_result"
    }
   ],
   "source": [
    "df_5 = sinasc_raw[['munResNome','IDADEMAE']]\n",
    "df_5.head()"
   ]
  },
  {
   "cell_type": "code",
   "execution_count": 20,
   "metadata": {},
   "outputs": [],
   "source": [
    "mapping = {\n",
    "    'Porto Velho':'Desenvolvimento Moderado',\n",
    "    'Vilhena':'Desenvolvimento Moderado',\n",
    "    'Cacoal':'Desenvolvimento Moderado',\n",
    "    'Ji-Paraná':'Desenvolvimento Moderado',\n",
    "    'Pimenta Bueno':'Desenvolvimento Moderado',\n",
    "    'Ariquemes':'Desenvolvimento Moderado',\n",
    "    'Rolim de Moura':'Desenvolvimento Moderado',\n",
    "    'Cerejeiras':'Desenvolvimento Moderado',\n",
    "    'Jaru':'Desenvolvimento Moderado',\n",
    "    'Colorado do Oeste':'Desenvolvimento Moderado',\n",
    "    'Ouro Preto do Oeste':'Desenvolvimento Moderado',\n",
    "    \"Santa Luzia D'Oeste\":'Desenvolvimento Moderado',\n",
    "    'Pimenteiras do Oeste':'Desenvolvimento Moderado',\n",
    "    'Chupinguaia':'Desenvolvimento Moderado',\n",
    "    'Teixeirópolis':'Desenvolvimento Moderado',\n",
    "    'Rio Crespo':'Desenvolvimento Moderado',\n",
    "    'Urupá':'Desenvolvimento Moderado',\n",
    "    \"Alta Floresta D'Oeste\":'Desenvolvimento Moderado',\n",
    "    'Buritis':'Desenvolvimento Moderado',\n",
    "    'Monte Negro':'Desenvolvimento Moderado',\n",
    "    'São Francisco do Guaporé':'Desenvolvimento Moderado',\n",
    "    'Presidente Médici':'Desenvolvimento Moderado',\n",
    "    \"São Felipe D'Oeste\":'Desenvolvimento Moderado',\n",
    "    'Primavera de Rondônia':'Desenvolvimento Moderado',\n",
    "    'São Miguel do Guaporé':'Desenvolvimento Moderado',\n",
    "    \"Espigão D'Oeste\":'Desenvolvimento Regular',\n",
    "    'Cabixi':'Desenvolvimento Regular',\n",
    "    'Parecis':'Desenvolvimento Regular',\n",
    "    'Novo Horizonte do Oeste':'Desenvolvimento Regular',\n",
    "    \"Machadinho D'Oeste\":'Desenvolvimento Regular',\n",
    "    'Alto Alegre dos Parecis':'Desenvolvimento Regular',\n",
    "    'Nova Mamoré':'Desenvolvimento Regular',\n",
    "    'Nova União':'Desenvolvimento Regular',\n",
    "    'Seringueiras':'Desenvolvimento Regular',\n",
    "    'Cacaulândia':'Desenvolvimento Regular',\n",
    "    'Cujubim':'Desenvolvimento Regular',\n",
    "    'Mirante da Serra':'Desenvolvimento Regular',\n",
    "    \"Alvorada D'Oeste\":'Desenvolvimento Regular',\n",
    "    'Governador Jorge Teixeira':'Desenvolvimento Regular',\n",
    "    'Campo Novo de Rondônia':'Desenvolvimento Regular',\n",
    "    'Vale do Anari':'Desenvolvimento Regular',\n",
    "    'Costa Marques':'Desenvolvimento Regular',\n",
    "    'Itapuã do Oeste':'Desenvolvimento Regular',\n",
    "    'Ministro Andreazza':'Desenvolvimento Regular',\n",
    "    'Vale do Paraíso':'Desenvolvimento Regular',\n",
    "    'Guajará-Mirim':'Desenvolvimento Regular',\n",
    "    \"Nova Brasilândia D'Oeste\":'Desenvolvimento Regular',\n",
    "    'Alto Paraíso':'Desenvolvimento Regular',\n",
    "    'Corumbiara':'Desenvolvimento Regular',\n",
    "    'Castanheiras':'Desenvolvimento Regular',\n",
    "    'Candeias do Jamari':'Desenvolvimento Regular',\n",
    "    'Theobroma':'Desenvolvimento Regular',\n",
    "    'Município ignorado - RO':''\n",
    "}"
   ]
  },
  {
   "cell_type": "code",
   "execution_count": 21,
   "metadata": {},
   "outputs": [
    {
     "name": "stderr",
     "output_type": "stream",
     "text": [
      "/tmp/ipykernel_3555/66304364.py:1: SettingWithCopyWarning: \n",
      "A value is trying to be set on a copy of a slice from a DataFrame\n",
      "\n",
      "See the caveats in the documentation: https://pandas.pydata.org/pandas-docs/stable/user_guide/indexing.html#returning-a-view-versus-a-copy\n",
      "  df_5.replace(mapping, inplace=True)\n"
     ]
    }
   ],
   "source": [
    "df_5.replace(mapping, inplace=True)"
   ]
  },
  {
   "cell_type": "code",
   "execution_count": 22,
   "metadata": {},
   "outputs": [],
   "source": [
    "ex_5_2 = df_5.pivot_table(values=['munResNome','IDADEMAE'],\n",
    "index='munResNome',\n",
    "aggfunc='mean'\n",
    ")"
   ]
  },
  {
   "cell_type": "code",
   "execution_count": 23,
   "metadata": {},
   "outputs": [
    {
     "data": {
      "text/html": [
       "<div>\n",
       "<style scoped>\n",
       "    .dataframe tbody tr th:only-of-type {\n",
       "        vertical-align: middle;\n",
       "    }\n",
       "\n",
       "    .dataframe tbody tr th {\n",
       "        vertical-align: top;\n",
       "    }\n",
       "\n",
       "    .dataframe thead th {\n",
       "        text-align: right;\n",
       "    }\n",
       "</style>\n",
       "<table border=\"1\" class=\"dataframe\">\n",
       "  <thead>\n",
       "    <tr style=\"text-align: right;\">\n",
       "      <th></th>\n",
       "      <th>IDADEMAE</th>\n",
       "    </tr>\n",
       "    <tr>\n",
       "      <th>munResNome</th>\n",
       "      <th></th>\n",
       "    </tr>\n",
       "  </thead>\n",
       "  <tbody>\n",
       "    <tr>\n",
       "      <th>Desenvolvimento Moderado</th>\n",
       "      <td>26.238419</td>\n",
       "    </tr>\n",
       "    <tr>\n",
       "      <th>Desenvolvimento Regular</th>\n",
       "      <td>25.516980</td>\n",
       "    </tr>\n",
       "  </tbody>\n",
       "</table>\n",
       "</div>"
      ],
      "text/plain": [
       "                           IDADEMAE\n",
       "munResNome                         \n",
       "Desenvolvimento Moderado  26.238419\n",
       "Desenvolvimento Regular   25.516980"
      ]
     },
     "execution_count": 23,
     "metadata": {},
     "output_type": "execute_result"
    }
   ],
   "source": [
    "ex_5_2 = ex_5_2.iloc[1:,:]\n",
    "ex_5_2"
   ]
  },
  {
   "cell_type": "code",
   "execution_count": 24,
   "metadata": {},
   "outputs": [
    {
     "data": {
      "text/plain": [
       "<matplotlib.collections.PathCollection at 0x7f681bcd99f0>"
      ]
     },
     "execution_count": 24,
     "metadata": {},
     "output_type": "execute_result"
    },
    {
     "data": {
      "image/png": "[encoded data removed]",
      "text/plain": [
       "<Figure size 432x288 with 1 Axes>"
      ]
     },
     "metadata": {
      "needs_background": "light"
     },
     "output_type": "display_data"
    }
   ],
   "source": [
    "plt.title('Média das idades das mães por índice IFDM',fontsize=20)\n",
    "plt.xlabel('Níveis IFDM')\n",
    "plt.ylabel('Idade')\n",
    "plt.scatter(ex_5_2.index,ex_5_2['IDADEMAE'])"
   ]
  },
  {
   "cell_type": "markdown",
   "metadata": {},
   "source": [
    "### 5.3 PIB\n",
    "C - https://pt.wikipedia.org/wiki/Lista_de_munic%C3%ADpios_de_Rond%C3%B4nia_por_PIB\n"
   ]
  },
  {
   "cell_type": "code",
   "execution_count": 26,
   "metadata": {},
   "outputs": [
    {
     "data": {
      "text/html": [
       "<div>\n",
       "<style scoped>\n",
       "    .dataframe tbody tr th:only-of-type {\n",
       "        vertical-align: middle;\n",
       "    }\n",
       "\n",
       "    .dataframe tbody tr th {\n",
       "        vertical-align: top;\n",
       "    }\n",
       "\n",
       "    .dataframe thead th {\n",
       "        text-align: right;\n",
       "    }\n",
       "</style>\n",
       "<table border=\"1\" class=\"dataframe\">\n",
       "  <thead>\n",
       "    <tr style=\"text-align: right;\">\n",
       "      <th></th>\n",
       "      <th>munResNome</th>\n",
       "      <th>IDADEMAE</th>\n",
       "    </tr>\n",
       "  </thead>\n",
       "  <tbody>\n",
       "    <tr>\n",
       "      <th>0</th>\n",
       "      <td>Alta Floresta D'Oeste</td>\n",
       "      <td>19</td>\n",
       "    </tr>\n",
       "    <tr>\n",
       "      <th>1</th>\n",
       "      <td>Alta Floresta D'Oeste</td>\n",
       "      <td>29</td>\n",
       "    </tr>\n",
       "    <tr>\n",
       "      <th>2</th>\n",
       "      <td>Alta Floresta D'Oeste</td>\n",
       "      <td>37</td>\n",
       "    </tr>\n",
       "    <tr>\n",
       "      <th>3</th>\n",
       "      <td>Alto Alegre dos Parecis</td>\n",
       "      <td>30</td>\n",
       "    </tr>\n",
       "    <tr>\n",
       "      <th>4</th>\n",
       "      <td>Alta Floresta D'Oeste</td>\n",
       "      <td>30</td>\n",
       "    </tr>\n",
       "    <tr>\n",
       "      <th>...</th>\n",
       "      <td>...</td>\n",
       "      <td>...</td>\n",
       "    </tr>\n",
       "    <tr>\n",
       "      <th>27023</th>\n",
       "      <td>Vilhena</td>\n",
       "      <td>32</td>\n",
       "    </tr>\n",
       "    <tr>\n",
       "      <th>27024</th>\n",
       "      <td>Chupinguaia</td>\n",
       "      <td>19</td>\n",
       "    </tr>\n",
       "    <tr>\n",
       "      <th>27025</th>\n",
       "      <td>Vilhena</td>\n",
       "      <td>24</td>\n",
       "    </tr>\n",
       "    <tr>\n",
       "      <th>27026</th>\n",
       "      <td>Vilhena</td>\n",
       "      <td>21</td>\n",
       "    </tr>\n",
       "    <tr>\n",
       "      <th>27027</th>\n",
       "      <td>Novo Horizonte do Oeste</td>\n",
       "      <td>18</td>\n",
       "    </tr>\n",
       "  </tbody>\n",
       "</table>\n",
       "<p>27028 rows × 2 columns</p>\n",
       "</div>"
      ],
      "text/plain": [
       "                    munResNome  IDADEMAE\n",
       "0        Alta Floresta D'Oeste        19\n",
       "1        Alta Floresta D'Oeste        29\n",
       "2        Alta Floresta D'Oeste        37\n",
       "3      Alto Alegre dos Parecis        30\n",
       "4        Alta Floresta D'Oeste        30\n",
       "...                        ...       ...\n",
       "27023                  Vilhena        32\n",
       "27024              Chupinguaia        19\n",
       "27025                  Vilhena        24\n",
       "27026                  Vilhena        21\n",
       "27027  Novo Horizonte do Oeste        18\n",
       "\n",
       "[27028 rows x 2 columns]"
      ]
     },
     "execution_count": 26,
     "metadata": {},
     "output_type": "execute_result"
    }
   ],
   "source": [
    "df_6 = sinasc_raw[['munResNome','IDADEMAE']]\n",
    "df_6"
   ]
  },
  {
   "cell_type": "code",
   "execution_count": 54,
   "metadata": {},
   "outputs": [],
   "source": [
    "mapping = {\n",
    "    'Porto Velho':'Acima de 1 Bilhão',\n",
    "    'Ji-Paraná':'Acima de 1 Bilhão',\n",
    "    'Vilhena':'Acima de 1 Bilhão',\n",
    "    'Ariquemes':'Acima de 1 Bilhão',\n",
    "    'Cacoal':'Acima de 1 Bilhão',\n",
    "    'Jaru':'Acima de 1 Bilhão',\n",
    "    'Rolim de Moura':'Acima de 1 Bilhão',\n",
    "    'Pimenta Bueno':'Acima de 1 Bilhão',\n",
    "    'Guajará-Mirim':'Acima de 500 Milhões',\n",
    "    'Ouro Preto do Oeste':'Acima de 500 Milhões',\n",
    "    'Buritis':'Acima de 500 Milhões',\n",
    "    \"Machadinho D'Oeste\":'Acima de 500 Milhões',\n",
    "    \"Espigão D'Oeste\":'Acima de 500 Milhões',\n",
    "    'São Miguel do Guaporé':'Acima de 500 Milhões',\n",
    "    'Candeias do Jamari':'Acima de 500 Milhões',\n",
    "    'Nova Mamoré':'Acima de 500 Milhões',\n",
    "    'Cerejeiras':'Acima de 500 Milhões',\n",
    "    \"Alta Floresta D'Oeste\":'Acima de 300 Milhões',\n",
    "    'Presidente Médici':'Acima de 300 Milhões',\n",
    "    'Cujubim':'Acima de 300 Milhões',\n",
    "    \"Nova Brasilândia D'Oeste\":'Acima de 300 Milhões',\n",
    "    'Alto Paraíso':'Acima de 300 Milhões',\n",
    "    'São Francisco do Guaporé':'Acima de 300 Milhões',\n",
    "    'Colorado do Oeste':'Acima de 300 Milhões',\n",
    "    'Monte Negro':'Acima de 200 Milhões',\n",
    "    'Alto Alegre dos Parecis':'Acima de 200 Milhões',\n",
    "    'Campo Novo de Rondônia':'Acima de 200 Milhões',\n",
    "    \"Alvorada D'Oeste\":'Acima de 200 Milhões',\n",
    "    'Chupinguaia':'Acima de 100 Milhões',\n",
    "    'Corumbiara':'Acima de 100 Milhões',\n",
    "    'Ministro Andreazza':'Acima de 100 Milhões',\n",
    "    'Urupá':'Acima de 100 Milhões',\n",
    "    'Costa Marques':'Acima de 100 Milhões',\n",
    "    'Seringueiras':'Acima de 100 Milhões',\n",
    "    'Mirante da Serra':'Acima de 100 Milhões',\n",
    "    'Governador Jorge Teixeira':'Acima de 100 Milhões',\n",
    "    'Theobroma':'Acima de 100 Milhões',\n",
    "    \"Santa Luzia D'Oeste\":'Acima de 100 Milhões',\n",
    "    'Novo Horizonte do Oeste':'Acima de 100 Milhões',\n",
    "    'Itapuã do Oeste':'Acima de 100 Milhões',\n",
    "    'Vale do Paraíso':'Acima de 100 Milhões',\n",
    "    'Cacaulândia':'Acima de 100 Milhões',\n",
    "    'Cabixi':'Acima de 100 Milhões',\n",
    "    'Vale do Anari':'Acima de 100 Milhões',\n",
    "    'Nova União':'Até 100 Milhões',\n",
    "    'Parecis':'Até 100 Milhões',\n",
    "    'Rio Crespo':'Até 100 Milhões',\n",
    "    'Pimenteiras do Oeste':'Até 100 Milhões',\n",
    "    'Teixeirópolis':'Até 100 Milhões',\n",
    "    \"São Felipe D'Oeste\":'Até 100 Milhões',\n",
    "    'Castanheiras':'Até 100 Milhões',\n",
    "    'Primavera de Rondônia':'Até 100 Milhões',\n",
    "    'Município ignorado - RO':''\n",
    "}"
   ]
  },
  {
   "cell_type": "code",
   "execution_count": 55,
   "metadata": {},
   "outputs": [
    {
     "name": "stderr",
     "output_type": "stream",
     "text": [
      "/tmp/ipykernel_3555/2374869682.py:1: SettingWithCopyWarning: \n",
      "A value is trying to be set on a copy of a slice from a DataFrame\n",
      "\n",
      "See the caveats in the documentation: https://pandas.pydata.org/pandas-docs/stable/user_guide/indexing.html#returning-a-view-versus-a-copy\n",
      "  df_6.replace(mapping, inplace=True)\n"
     ]
    }
   ],
   "source": [
    "df_6.replace(mapping, inplace=True)\n"
   ]
  },
  {
   "cell_type": "code",
   "execution_count": 56,
   "metadata": {},
   "outputs": [],
   "source": [
    "ex_5_3 = df_6.pivot_table(values=['munResNome','IDADEMAE'],\n",
    "index='munResNome',\n",
    "aggfunc='mean'\n",
    ")"
   ]
  },
  {
   "cell_type": "code",
   "execution_count": 58,
   "metadata": {},
   "outputs": [],
   "source": [
    "ex_5_3 = ex_5_3.iloc[1:,:]"
   ]
  },
  {
   "cell_type": "code",
   "execution_count": 69,
   "metadata": {},
   "outputs": [
    {
     "data": {
      "text/html": [
       "<div>\n",
       "<style scoped>\n",
       "    .dataframe tbody tr th:only-of-type {\n",
       "        vertical-align: middle;\n",
       "    }\n",
       "\n",
       "    .dataframe tbody tr th {\n",
       "        vertical-align: top;\n",
       "    }\n",
       "\n",
       "    .dataframe thead th {\n",
       "        text-align: right;\n",
       "    }\n",
       "</style>\n",
       "<table border=\"1\" class=\"dataframe\">\n",
       "  <thead>\n",
       "    <tr style=\"text-align: right;\">\n",
       "      <th></th>\n",
       "      <th>IDADEMAE</th>\n",
       "    </tr>\n",
       "    <tr>\n",
       "      <th>Faixas de PIB</th>\n",
       "      <th></th>\n",
       "    </tr>\n",
       "  </thead>\n",
       "  <tbody>\n",
       "    <tr>\n",
       "      <th>Acima de 1 Bilhão</th>\n",
       "      <td>26.265562</td>\n",
       "    </tr>\n",
       "    <tr>\n",
       "      <th>Acima de 100 Milhões</th>\n",
       "      <td>25.662910</td>\n",
       "    </tr>\n",
       "    <tr>\n",
       "      <th>Acima de 200 Milhões</th>\n",
       "      <td>25.323204</td>\n",
       "    </tr>\n",
       "    <tr>\n",
       "      <th>Acima de 300 Milhões</th>\n",
       "      <td>25.833511</td>\n",
       "    </tr>\n",
       "    <tr>\n",
       "      <th>Acima de 500 Milhões</th>\n",
       "      <td>25.782528</td>\n",
       "    </tr>\n",
       "    <tr>\n",
       "      <th>Até 100 Milhões</th>\n",
       "      <td>26.515081</td>\n",
       "    </tr>\n",
       "  </tbody>\n",
       "</table>\n",
       "</div>"
      ],
      "text/plain": [
       "                       IDADEMAE\n",
       "Faixas de PIB                  \n",
       "Acima de 1 Bilhão     26.265562\n",
       "Acima de 100 Milhões  25.662910\n",
       "Acima de 200 Milhões  25.323204\n",
       "Acima de 300 Milhões  25.833511\n",
       "Acima de 500 Milhões  25.782528\n",
       "Até 100 Milhões       26.515081"
      ]
     },
     "execution_count": 69,
     "metadata": {},
     "output_type": "execute_result"
    }
   ],
   "source": [
    "ex_5_3.index.names=['Faixas de PIB']\n",
    "ex_5_3"
   ]
  },
  {
   "cell_type": "code",
   "execution_count": 85,
   "metadata": {},
   "outputs": [
    {
     "data": {
      "text/plain": [
       "[<matplotlib.lines.Line2D at 0x7f6812707610>]"
      ]
     },
     "execution_count": 85,
     "metadata": {},
     "output_type": "execute_result"
    },
    {
     "data": {
      "image/png": "[encoded data removed]",
      "text/plain": [
       "<Figure size 432x288 with 1 Axes>"
      ]
     },
     "metadata": {
      "needs_background": "light"
     },
     "output_type": "display_data"
    }
   ],
   "source": [
    "plt.title('Média das idades das mães de acordo com as faixas de PIB')\n",
    "plt.xlabel('Faixas de PIB')\n",
    "plt.ylabel('Idade')\n",
    "plt.xticks(rotation=90)\n",
    "plt.plot(ex_5_3.index,ex_5_3['IDADEMAE'])"
   ]
  },
  {
   "cell_type": "markdown",
   "metadata": {},
   "source": [
    "### Analise as respostas encontradas, tire algum insight delas, conte pra gente algo encontrado nos dados."
   ]
  },
  {
   "cell_type": "markdown",
   "metadata": {},
   "source": [
    "Exemplo:\n",
    "- Ah, descobri que a idade mediana das mulheres que deram a luz no ano de 2019 dos municipios com o PIB mais alto é a maior dentre todas."
   ]
  },
  {
   "cell_type": "markdown",
   "metadata": {},
   "source": [
    "Analisando a média de idades das mães considerando todos os índices propostos, concluímos que apenas as análises dos índices de IDH e IFDM corroboram para a hipótese alternativa de que nas regiões mais desenvolvidas a média de idades das mães é maior que nas regiões menos desenvolvidas. O que difere ao analisarmos esta variável mediante ao PIB."
   ]
  }
 ],
 "metadata": {
  "interpreter": {
   "hash": "22e2eaa6042ef89b6f54670f97f7033ec2e175ac1bf14b14863ac000b6bc46b4"
  },
  "kernelspec": {
   "display_name": "Python 3.10.4 ('ebac': venv)",
   "language": "python",
   "name": "python3"
  },
  "language_info": {
   "codemirror_mode": {
    "name": "ipython",
    "version": 3
   },
   "file_extension": ".py",
   "mimetype": "text/x-python",
   "name": "python",
   "nbconvert_exporter": "python",
   "pygments_lexer": "ipython3",
   "version": "3.10.4"
  },
  "varInspector": {
   "cols": {
    "lenName": 16,
    "lenType": 16,
    "lenVar": 40
   },
   "kernels_config": {
    "python": {
     "delete_cmd_postfix": "",
     "delete_cmd_prefix": "del ",
     "library": "var_list.py",
     "varRefreshCmd": "print(var_dic_list())"
    },
    "r": {
     "delete_cmd_postfix": ") ",
     "delete_cmd_prefix": "rm(",
     "library": "var_list.r",
     "varRefreshCmd": "cat(var_dic_list()) "
    }
   },
   "types_to_exclude": [
    "module",
    "function",
    "builtin_function_or_method",
    "instance",
    "_Feature"
   ],
   "window_display": false
  }
 },
 "nbformat": 4,
 "nbformat_minor": 4
}
