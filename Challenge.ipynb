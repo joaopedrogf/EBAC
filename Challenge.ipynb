{
 "cells": [
  {
   "cell_type": "markdown",
   "metadata": {},
   "source": [
    "# 1 \n",
    "Você foi procurado por um aluno do curso de Produção Multimídia para desenvolver um trabalho de parceria: um serviço em que as pessoas possam usar um estúdio profissional para gravar seus vídeos para o YouTube com máxima qualidade. O serviço ganha dinheiro por meio de um sistema de assinaturas e de um bônus calculado por uma porcentagem sobre o faturamento que o canal do cliente obteve ao longo do ano.\n",
    "Sua tarefa é criar um algoritmo que receba o tipo de assinatura do cliente, o faturamento anual dele e que calcule e exiba qual o valor do bônus que o cliente deve pagar a vocês. A tabela abaixo mostra a porcentagem de acordo com cada nível de assinatura:\n",
    "\n",
    "Nível   |Porcentagem sobre o faturamento<br>\n",
    "Basic   |                            30%<br>\n",
    "Silver  |                            20%<br>\n",
    "Gold    |                            10%<br>\n",
    "Platinum|                             5%"
   ]
  },
  {
   "cell_type": "code",
   "execution_count": 27,
   "metadata": {},
   "outputs": [],
   "source": [
    "def bonus(assinatura, faturamento):\n",
    "    if assinatura == 'Basic' or assinatura == 'basic':\n",
    "        return faturamento * 0.3\n",
    "    elif assinatura == 'Silver' or assinatura == 'silver':\n",
    "        return faturamento * 0.2\n",
    "    elif assinatura == 'Gold' or assinatura == 'gold':\n",
    "        return faturamento * 0.1\n",
    "    elif assinatura == 'Platinum' or assinatura == 'platinum':\n",
    "        return faturamento * 0.05\n",
    "    else:\n",
    "        print('Insira dados válidos')"
   ]
  },
  {
   "cell_type": "code",
   "execution_count": 32,
   "metadata": {},
   "outputs": [
    {
     "data": {
      "text/plain": [
       "0.5"
      ]
     },
     "execution_count": 32,
     "metadata": {},
     "output_type": "execute_result"
    }
   ],
   "source": [
    "bonus('Platinum', 10)"
   ]
  },
  {
   "cell_type": "markdown",
   "metadata": {},
   "source": [
    "# 2\n",
    "Os alunos da sua turma fizeram uma votação para escolher qual dia da semana é o melhor para a realização das lives. Desenvolva um programa em que o usuário informe a quantidade de votos que cada um dos 5 dias da semana(segunda-feira, terça-feira, quarta-feira, quinta-feira, sexta-feira) obtiveram. Verifique e exiba qual foi o dia escolhido."
   ]
  },
  {
   "cell_type": "code",
   "execution_count": 17,
   "metadata": {},
   "outputs": [],
   "source": [
    "def votacao(segunda=0, terca=0, quarta=0, quinta=0, sexta=0):\n",
    "    dias_da_semana=[]\n",
    "    \n",
    "    segunda = int(input('quantidade de votos segunda: '))\n",
    "    dias_da_semana.append(segunda)\n",
    "    terca = int(input('quantidade de votos terça: '))\n",
    "    dias_da_semana.append(terca)\n",
    "    quarta = int(input('quantidade de votos quarta: '))\n",
    "    dias_da_semana.append(quarta)\n",
    "    quinta = int(input('quantidade de votos quinta: '))\n",
    "    dias_da_semana.append(quinta)\n",
    "    sexta = int(input('quantidade de votos sexta: '))\n",
    "    dias_da_semana.append(sexta)\n",
    "    \n",
    "    if max(dias_da_semana) == segunda:\n",
    "        return print('o dia mais votado é segunda')\n",
    "    elif max(dias_da_semana) == terca:\n",
    "        return print('o dia mais votado é terça')\n",
    "    elif max(dias_da_semana) == quarta:\n",
    "        return print('o dia mais votado é quarta')\n",
    "    elif max(dias_da_semana) == quinta:\n",
    "        return print('o dia mais votado é quinta')\n",
    "    elif max(dias_da_semana) == sexta:\n",
    "        return print('o dia mais votado é sexta')\n",
    "    \n",
    "    \n",
    "    "
   ]
  },
  {
   "cell_type": "code",
   "execution_count": 21,
   "metadata": {},
   "outputs": [
    {
     "name": "stdout",
     "output_type": "stream",
     "text": [
      "quantidade de votos segunda: 4\n",
      "quantidade de votos terça: 6\n",
      "quantidade de votos quarta: 34\n",
      "quantidade de votos quinta: 2\n",
      "quantidade de votos sexta: 2345\n",
      "o dia mais votado é sexta\n"
     ]
    }
   ],
   "source": [
    "votacao()"
   ]
  },
  {
   "cell_type": "markdown",
   "metadata": {},
   "source": [
    "# 3\n",
    "Muitos professores preferem adotar modelos diferentes de provas quando dão aulas para turmas muito grandes. Por essa razão, a escola de inglês JoWell Sant'ana, em que todas as turmas são compostas por 50 alunos, solicitou que você criasse um sistema capaz de atender ao seguinte requisito: o professor deve digitar primeiro as notas dos 25 alunos que têm o número ímpar na chamada(1, 3, 5, ..., 47, 49) e depois as notas dos 25 que têm número par(2, 4, 6, ..., 48, 50). O sistema deve calcular e exibir a média de cada uma das melhores da sala e informar, ao final, qual delas teve a maior nota.\n",
    "Há ainda um pedido especial do mantenedor: para que os professores não se confundam, ao digitar cada uma das notas deve ser exibida uma mensagem no seguinte padrão: \"VOCÊ ESTÁ DIGITANDO AS NOTAS DOS ALUNOS PARES(ou ímpares, quando for o caso). POR FAVOR INSIRA A NOTA DO ALUNO DE NÚMERO x."
   ]
  },
  {
   "cell_type": "code",
   "execution_count": 3,
   "metadata": {},
   "outputs": [],
   "source": [
    "def notas():\n",
    "    notas_impares = []\n",
    "    notas_pares = []\n",
    "    \n",
    "    for i in range(1,50,2):\n",
    "        notas_impares.append(float(input(f'VOCÊ ESTÁ DIGITANDO AS NOTAS DOS ALUNOS ÍMPARES. POR FAVOR INSIRA A NOTA DO ALUNO DE NÚMERO {i}: ')))\n",
    "    for i in range(1,51,2):\n",
    "        notas_pares.append(float(input(f'VOCÊ ESTÁ DIGITANDO AS NOTAS DOS ALUNOS PARES. POR FAVOR INSIRA A NOTA DO ALUNO DE NÚMERO {i}: ')))\n",
    "            \n",
    "    media_impares = sum(notas_impares) / len(notas_impares)\n",
    "    media_pares = sum(notas_pares) / len(notas_pares)\n",
    "    \n",
    "    if media_impares > media_pares:\n",
    "        print(f'os alunos ímpares possuem a maior média com:{media_impares}')\n",
    "    elif media_impares < media_pares:\n",
    "        print(f'os alunos pares possuem a maior média com:{media_pares}')"
   ]
  },
  {
   "cell_type": "code",
   "execution_count": 4,
   "metadata": {},
   "outputs": [
    {
     "name": "stdout",
     "output_type": "stream",
     "text": [
      "VOCÊ ESTÁ DIGITANDO AS NOTAS DOS ALUNOS ÍMPARES. POR FAVOR INSIRA A NOTA DO ALUNO DE NÚMERO 1: 2\n",
      "VOCÊ ESTÁ DIGITANDO AS NOTAS DOS ALUNOS ÍMPARES. POR FAVOR INSIRA A NOTA DO ALUNO DE NÚMERO 3: 4\n",
      "VOCÊ ESTÁ DIGITANDO AS NOTAS DOS ALUNOS ÍMPARES. POR FAVOR INSIRA A NOTA DO ALUNO DE NÚMERO 5: 2\n",
      "VOCÊ ESTÁ DIGITANDO AS NOTAS DOS ALUNOS ÍMPARES. POR FAVOR INSIRA A NOTA DO ALUNO DE NÚMERO 7: 5\n",
      "VOCÊ ESTÁ DIGITANDO AS NOTAS DOS ALUNOS ÍMPARES. POR FAVOR INSIRA A NOTA DO ALUNO DE NÚMERO 9: 1\n",
      "VOCÊ ESTÁ DIGITANDO AS NOTAS DOS ALUNOS ÍMPARES. POR FAVOR INSIRA A NOTA DO ALUNO DE NÚMERO 11: 6\n",
      "VOCÊ ESTÁ DIGITANDO AS NOTAS DOS ALUNOS ÍMPARES. POR FAVOR INSIRA A NOTA DO ALUNO DE NÚMERO 13: 7\n",
      "VOCÊ ESTÁ DIGITANDO AS NOTAS DOS ALUNOS ÍMPARES. POR FAVOR INSIRA A NOTA DO ALUNO DE NÚMERO 15: 10\n",
      "VOCÊ ESTÁ DIGITANDO AS NOTAS DOS ALUNOS ÍMPARES. POR FAVOR INSIRA A NOTA DO ALUNO DE NÚMERO 17: 9\n",
      "VOCÊ ESTÁ DIGITANDO AS NOTAS DOS ALUNOS ÍMPARES. POR FAVOR INSIRA A NOTA DO ALUNO DE NÚMERO 19: 8\n",
      "VOCÊ ESTÁ DIGITANDO AS NOTAS DOS ALUNOS ÍMPARES. POR FAVOR INSIRA A NOTA DO ALUNO DE NÚMERO 21: 6\n",
      "VOCÊ ESTÁ DIGITANDO AS NOTAS DOS ALUNOS ÍMPARES. POR FAVOR INSIRA A NOTA DO ALUNO DE NÚMERO 23: 6\n",
      "VOCÊ ESTÁ DIGITANDO AS NOTAS DOS ALUNOS ÍMPARES. POR FAVOR INSIRA A NOTA DO ALUNO DE NÚMERO 25: 5\n",
      "VOCÊ ESTÁ DIGITANDO AS NOTAS DOS ALUNOS ÍMPARES. POR FAVOR INSIRA A NOTA DO ALUNO DE NÚMERO 27: 4.5\n",
      "VOCÊ ESTÁ DIGITANDO AS NOTAS DOS ALUNOS ÍMPARES. POR FAVOR INSIRA A NOTA DO ALUNO DE NÚMERO 29: 6.5\n",
      "VOCÊ ESTÁ DIGITANDO AS NOTAS DOS ALUNOS ÍMPARES. POR FAVOR INSIRA A NOTA DO ALUNO DE NÚMERO 31: 7.8\n",
      "VOCÊ ESTÁ DIGITANDO AS NOTAS DOS ALUNOS ÍMPARES. POR FAVOR INSIRA A NOTA DO ALUNO DE NÚMERO 33: 8.4\n",
      "VOCÊ ESTÁ DIGITANDO AS NOTAS DOS ALUNOS ÍMPARES. POR FAVOR INSIRA A NOTA DO ALUNO DE NÚMERO 35: 2.5\n",
      "VOCÊ ESTÁ DIGITANDO AS NOTAS DOS ALUNOS ÍMPARES. POR FAVOR INSIRA A NOTA DO ALUNO DE NÚMERO 37: 1.2\n",
      "VOCÊ ESTÁ DIGITANDO AS NOTAS DOS ALUNOS ÍMPARES. POR FAVOR INSIRA A NOTA DO ALUNO DE NÚMERO 39: 5.4\n",
      "VOCÊ ESTÁ DIGITANDO AS NOTAS DOS ALUNOS ÍMPARES. POR FAVOR INSIRA A NOTA DO ALUNO DE NÚMERO 41: 5\n",
      "VOCÊ ESTÁ DIGITANDO AS NOTAS DOS ALUNOS ÍMPARES. POR FAVOR INSIRA A NOTA DO ALUNO DE NÚMERO 43: 6\n",
      "VOCÊ ESTÁ DIGITANDO AS NOTAS DOS ALUNOS ÍMPARES. POR FAVOR INSIRA A NOTA DO ALUNO DE NÚMERO 45: 1.23\n",
      "VOCÊ ESTÁ DIGITANDO AS NOTAS DOS ALUNOS ÍMPARES. POR FAVOR INSIRA A NOTA DO ALUNO DE NÚMERO 47: 3.67\n",
      "VOCÊ ESTÁ DIGITANDO AS NOTAS DOS ALUNOS ÍMPARES. POR FAVOR INSIRA A NOTA DO ALUNO DE NÚMERO 49: 5.6\n",
      "VOCÊ ESTÁ DIGITANDO AS NOTAS DOS ALUNOS PARES. POR FAVOR INSIRA A NOTA DO ALUNO DE NÚMERO 1: 6.5\n",
      "VOCÊ ESTÁ DIGITANDO AS NOTAS DOS ALUNOS PARES. POR FAVOR INSIRA A NOTA DO ALUNO DE NÚMERO 3: 5.5\n",
      "VOCÊ ESTÁ DIGITANDO AS NOTAS DOS ALUNOS PARES. POR FAVOR INSIRA A NOTA DO ALUNO DE NÚMERO 5: 4.5\n",
      "VOCÊ ESTÁ DIGITANDO AS NOTAS DOS ALUNOS PARES. POR FAVOR INSIRA A NOTA DO ALUNO DE NÚMERO 7: 2\n",
      "VOCÊ ESTÁ DIGITANDO AS NOTAS DOS ALUNOS PARES. POR FAVOR INSIRA A NOTA DO ALUNO DE NÚMERO 9: 3\n",
      "VOCÊ ESTÁ DIGITANDO AS NOTAS DOS ALUNOS PARES. POR FAVOR INSIRA A NOTA DO ALUNO DE NÚMERO 11: 8\n",
      "VOCÊ ESTÁ DIGITANDO AS NOTAS DOS ALUNOS PARES. POR FAVOR INSIRA A NOTA DO ALUNO DE NÚMERO 13: 8.5\n",
      "VOCÊ ESTÁ DIGITANDO AS NOTAS DOS ALUNOS PARES. POR FAVOR INSIRA A NOTA DO ALUNO DE NÚMERO 15: 6\n",
      "VOCÊ ESTÁ DIGITANDO AS NOTAS DOS ALUNOS PARES. POR FAVOR INSIRA A NOTA DO ALUNO DE NÚMERO 17: 6.7\n",
      "VOCÊ ESTÁ DIGITANDO AS NOTAS DOS ALUNOS PARES. POR FAVOR INSIRA A NOTA DO ALUNO DE NÚMERO 19: 7\n",
      "VOCÊ ESTÁ DIGITANDO AS NOTAS DOS ALUNOS PARES. POR FAVOR INSIRA A NOTA DO ALUNO DE NÚMERO 21: 7\n",
      "VOCÊ ESTÁ DIGITANDO AS NOTAS DOS ALUNOS PARES. POR FAVOR INSIRA A NOTA DO ALUNO DE NÚMERO 23: 10\n",
      "VOCÊ ESTÁ DIGITANDO AS NOTAS DOS ALUNOS PARES. POR FAVOR INSIRA A NOTA DO ALUNO DE NÚMERO 25: 10\n",
      "VOCÊ ESTÁ DIGITANDO AS NOTAS DOS ALUNOS PARES. POR FAVOR INSIRA A NOTA DO ALUNO DE NÚMERO 27: 2.5\n",
      "VOCÊ ESTÁ DIGITANDO AS NOTAS DOS ALUNOS PARES. POR FAVOR INSIRA A NOTA DO ALUNO DE NÚMERO 29: 1\n",
      "VOCÊ ESTÁ DIGITANDO AS NOTAS DOS ALUNOS PARES. POR FAVOR INSIRA A NOTA DO ALUNO DE NÚMERO 31: 1\n",
      "VOCÊ ESTÁ DIGITANDO AS NOTAS DOS ALUNOS PARES. POR FAVOR INSIRA A NOTA DO ALUNO DE NÚMERO 33: 2\n",
      "VOCÊ ESTÁ DIGITANDO AS NOTAS DOS ALUNOS PARES. POR FAVOR INSIRA A NOTA DO ALUNO DE NÚMERO 35: 0\n",
      "VOCÊ ESTÁ DIGITANDO AS NOTAS DOS ALUNOS PARES. POR FAVOR INSIRA A NOTA DO ALUNO DE NÚMERO 37: 0\n",
      "VOCÊ ESTÁ DIGITANDO AS NOTAS DOS ALUNOS PARES. POR FAVOR INSIRA A NOTA DO ALUNO DE NÚMERO 39: 7.5\n",
      "VOCÊ ESTÁ DIGITANDO AS NOTAS DOS ALUNOS PARES. POR FAVOR INSIRA A NOTA DO ALUNO DE NÚMERO 41: 2.5\n",
      "VOCÊ ESTÁ DIGITANDO AS NOTAS DOS ALUNOS PARES. POR FAVOR INSIRA A NOTA DO ALUNO DE NÚMERO 43: 3\n",
      "VOCÊ ESTÁ DIGITANDO AS NOTAS DOS ALUNOS PARES. POR FAVOR INSIRA A NOTA DO ALUNO DE NÚMERO 45: 3\n",
      "VOCÊ ESTÁ DIGITANDO AS NOTAS DOS ALUNOS PARES. POR FAVOR INSIRA A NOTA DO ALUNO DE NÚMERO 47: 2\n",
      "VOCÊ ESTÁ DIGITANDO AS NOTAS DOS ALUNOS PARES. POR FAVOR INSIRA A NOTA DO ALUNO DE NÚMERO 49: 3.6\n",
      "os alunos ímpares possuem a maior média com:5.152\n"
     ]
    }
   ],
   "source": [
    "notas()"
   ]
  },
  {
   "cell_type": "markdown",
   "metadata": {},
   "source": [
    "# 4\n",
    "Um grande cliente seu sofreu um ataque hacker: o servidor foi sequestrado por um software malicioso, que criptografou todos os discos e pede a digitação de uma senha para a liberação da máquina. E é claro que os criminosos exigem um pagamento para informar a senha. Ao analisar o código do programa deles, porém, você descobre que a senha é composta da palavra \"LIBERDADE\" seguida do fatorial dos minutos que a máquina estiver marcando no momento da digitação da senha(se a máquina estiver marcando 5 minutos, a senha será LIBERDADE120). Crie um programa que receba do usuário os minutos atuais e exiba na tela a senha necessária para desbloqueio. ATENÇÃO: seu programa não pode utilizar funções prontas para o cálculo do fatorial. Ele deve obrigatoriamente utilizar loop."
   ]
  },
  {
   "cell_type": "code",
   "execution_count": 5,
   "metadata": {},
   "outputs": [],
   "source": [
    "def senha(minuto_atual):\n",
    "    resposta = 1\n",
    "    for n in range(1,minuto_atual+1):\n",
    "        resposta = resposta * n\n",
    "\n",
    "    print('LIBERDADE'+str(resposta))\n"
   ]
  },
  {
   "cell_type": "code",
   "execution_count": 7,
   "metadata": {},
   "outputs": [
    {
     "name": "stdout",
     "output_type": "stream",
     "text": [
      "LIBERDADE120\n"
     ]
    }
   ],
   "source": [
    "senha(5)"
   ]
  }
 ],
 "metadata": {
  "kernelspec": {
   "display_name": "Python 3",
   "language": "python",
   "name": "python3"
  },
  "language_info": {
   "codemirror_mode": {
    "name": "ipython",
    "version": 3
   },
   "file_extension": ".py",
   "mimetype": "text/x-python",
   "name": "python",
   "nbconvert_exporter": "python",
   "pygments_lexer": "ipython3",
   "version": "3.7.0"
  }
 },
 "nbformat": 4,
 "nbformat_minor": 2
}
